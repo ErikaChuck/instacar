{
 "cells": [
  {
   "cell_type": "markdown",
   "id": "3Xg_RQfnafXz",
   "metadata": {
    "id": "3Xg_RQfnafXz"
   },
   "source": [
    "# ¡Llena ese carrito!"
   ]
  },
  {
   "cell_type": "markdown",
   "id": "3MbyzpOQZ5Or",
   "metadata": {
    "id": "3MbyzpOQZ5Or"
   },
   "source": [
    "## Diccionario de datos\n",
    "\n",
    "Hay cinco tablas en el conjunto de datos, y tendrás que usarlas todas para hacer el preprocesamiento de datos y el análisis exploratorio de datos. A continuación se muestra un diccionario de datos que enumera las columnas de cada tabla y describe los datos que contienen.\n",
    "\n",
    "- `instacart_orders.csv`: cada fila corresponde a un pedido en la aplicación Instacart.\n",
    "    - `'order_id'`: número de ID que identifica de manera única cada pedido.\n",
    "    - `'user_id'`: número de ID que identifica de manera única la cuenta de cada cliente.\n",
    "    - `'order_number'`: el número de veces que este cliente ha hecho un pedido.\n",
    "    - `'order_dow'`: día de la semana en que se hizo el pedido (0 si es domingo).\n",
    "    - `'order_hour_of_day'`: hora del día en que se hizo el pedido.\n",
    "    - `'days_since_prior_order'`: número de días transcurridos desde que este cliente hizo su pedido anterior.\n",
    "- `products.csv`: cada fila corresponde a un producto único que pueden comprar los clientes.\n",
    "    - `'product_id'`: número ID que identifica de manera única cada producto.\n",
    "    - `'product_name'`: nombre del producto.\n",
    "    - `'aisle_id'`: número ID que identifica de manera única cada categoría de pasillo de víveres.\n",
    "    - `'department_id'`: número ID que identifica de manera única cada departamento de víveres.\n",
    "- `order_products.csv`: cada fila corresponde a un artículo pedido en un pedido.\n",
    "    - `'order_id'`: número de ID que identifica de manera única cada pedido.\n",
    "    - `'product_id'`: número ID que identifica de manera única cada producto.\n",
    "    - `'add_to_cart_order'`: el orden secuencial en el que se añadió cada artículo en el carrito.\n",
    "    - `'reordered'`: 0 si el cliente nunca ha pedido este producto antes, 1 si lo ha pedido.\n",
    "- `aisles.csv`\n",
    "    - `'aisle_id'`: número ID que identifica de manera única cada categoría de pasillo de víveres.\n",
    "    - `'aisle'`: nombre del pasillo.\n",
    "- `departments.csv`\n",
    "    - `'department_id'`: número ID que identifica de manera única cada departamento de víveres.\n",
    "    - `'department'`: nombre del departamento."
   ]
  },
  {
   "cell_type": "markdown",
   "id": "n3Ha_cNSZ8lK",
   "metadata": {
    "id": "n3Ha_cNSZ8lK"
   },
   "source": [
    "# Paso 1. Descripción de los datos\n",
    "\n",
    "Lee los archivos de datos (`/datasets/instacart_orders.csv`, `/datasets/products.csv`, `/datasets/aisles.csv`, `/datasets/departments.csv` y `/datasets/order_products.csv`) con `pd.read_csv()` usando los parámetros adecuados para leer los datos correctamente. Verifica la información para cada DataFrame creado.\n"
   ]
  },
  {
   "cell_type": "markdown",
   "id": "OmlQPLlyaAfR",
   "metadata": {
    "id": "OmlQPLlyaAfR"
   },
   "source": [
    "## Plan de solución\n",
    "\n",
    "Escribe aquí tu plan de solución para el Paso 1. Descripción de los datos."
   ]
  },
  {
   "cell_type": "code",
   "execution_count": 1,
   "id": "fbf1adab",
   "metadata": {
    "id": "fbf1adab"
   },
   "outputs": [],
   "source": [
    "# importar librerías\n",
    "import pandas as pd #importamos pandas para los análisis\n",
    "from matplotlib import pyplot as plt #importamos pyplot para crear gráficos\n",
    "import numpy as np #importamos numpy para computación científica"
   ]
  },
  {
   "cell_type": "markdown",
   "id": "75246b9d",
   "metadata": {},
   "source": [
    "<div class=\"alert alert-block alert-warning\">\n",
    "<b>Comentario del revisor (1era Iteracion)</b> <a class=“tocSkip”></a>\n",
    "\n",
    "Hay que tener cuidado con hacer más de una vez la carga de los datos, en este caso lo importaste a la variable `orders` sin especificar el separador y aunque esto no afecta tus siguientes pasos debido a que en la siguiente celda está de manera correcta, en otros casos puede afectar tu proyecto por lo que te recomiendo quitar esa celda.\n",
    "</div>"
   ]
  },
  {
   "cell_type": "code",
   "execution_count": 2,
   "id": "39d38162",
   "metadata": {},
   "outputs": [],
   "source": [
    "#Enterada, celda eliminada."
   ]
  },
  {
   "cell_type": "code",
   "execution_count": 2,
   "id": "ad36396d",
   "metadata": {
    "id": "ad36396d"
   },
   "outputs": [],
   "source": [
    "# leer conjuntos de datos en los DataFrames, agregamos el argumento sep=';' \n",
    "# para especificar el separador y dividir las columnas correctamente.\n",
    "orders = pd.read_csv('/datasets/instacart_orders.csv', sep = ';')\n",
    "products = pd.read_csv('/datasets/products.csv', sep = ';')\n",
    "order_products = pd.read_csv('/datasets/order_products.csv', sep = ';')\n",
    "aisles = pd.read_csv('/datasets/aisles.csv', sep = ';')\n",
    "departments = pd.read_csv('/datasets/departments.csv', sep = ';')"
   ]
  },
  {
   "cell_type": "markdown",
   "id": "c74ca8dd",
   "metadata": {},
   "source": [
    "<div class=\"alert alert-block alert-warning\">\n",
    "<b>Comentario del revisor (1era Iteracion)</b> <a class=“tocSkip”></a>\n",
    "\n",
    "Buen trabajo importando las librerías y cargando los datos a utilizar!\n",
    "    \n",
    "Como recomendación procura siempre dejar un espacio a los lados de tu `=` en la asignación de valores a las variables para que tu código sea más limpio.\n",
    "</div>"
   ]
  },
  {
   "cell_type": "markdown",
   "id": "09db9213",
   "metadata": {},
   "source": [
    "<div class=\"alert alert-block alert-success\">\n",
    "<b>Comentario del revisor (2da Iteracion)</b> <a class=“tocSkip”></a>\n",
    "\n",
    "Buen trabajo con los cambios!\n",
    "</div>"
   ]
  },
  {
   "cell_type": "code",
   "execution_count": 4,
   "id": "ad6a1efa",
   "metadata": {
    "id": "ad6a1efa",
    "scrolled": false
   },
   "outputs": [
    {
     "name": "stdout",
     "output_type": "stream",
     "text": [
      "<class 'pandas.core.frame.DataFrame'>\n",
      "RangeIndex: 478967 entries, 0 to 478966\n",
      "Data columns (total 6 columns):\n",
      " #   Column                  Non-Null Count   Dtype  \n",
      "---  ------                  --------------   -----  \n",
      " 0   order_id                478967 non-null  int64  \n",
      " 1   user_id                 478967 non-null  int64  \n",
      " 2   order_number            478967 non-null  int64  \n",
      " 3   order_dow               478967 non-null  int64  \n",
      " 4   order_hour_of_day       478967 non-null  int64  \n",
      " 5   days_since_prior_order  450148 non-null  float64\n",
      "dtypes: float64(1), int64(5)\n",
      "memory usage: 21.9 MB\n"
     ]
    },
    {
     "data": {
      "text/html": [
       "<div>\n",
       "<style scoped>\n",
       "    .dataframe tbody tr th:only-of-type {\n",
       "        vertical-align: middle;\n",
       "    }\n",
       "\n",
       "    .dataframe tbody tr th {\n",
       "        vertical-align: top;\n",
       "    }\n",
       "\n",
       "    .dataframe thead th {\n",
       "        text-align: right;\n",
       "    }\n",
       "</style>\n",
       "<table border=\"1\" class=\"dataframe\">\n",
       "  <thead>\n",
       "    <tr style=\"text-align: right;\">\n",
       "      <th></th>\n",
       "      <th>order_id</th>\n",
       "      <th>user_id</th>\n",
       "      <th>order_number</th>\n",
       "      <th>order_dow</th>\n",
       "      <th>order_hour_of_day</th>\n",
       "      <th>days_since_prior_order</th>\n",
       "    </tr>\n",
       "  </thead>\n",
       "  <tbody>\n",
       "    <tr>\n",
       "      <th>0</th>\n",
       "      <td>1515936</td>\n",
       "      <td>183418</td>\n",
       "      <td>11</td>\n",
       "      <td>6</td>\n",
       "      <td>13</td>\n",
       "      <td>30.0</td>\n",
       "    </tr>\n",
       "    <tr>\n",
       "      <th>1</th>\n",
       "      <td>1690866</td>\n",
       "      <td>163593</td>\n",
       "      <td>5</td>\n",
       "      <td>5</td>\n",
       "      <td>12</td>\n",
       "      <td>9.0</td>\n",
       "    </tr>\n",
       "    <tr>\n",
       "      <th>2</th>\n",
       "      <td>1454967</td>\n",
       "      <td>39980</td>\n",
       "      <td>4</td>\n",
       "      <td>5</td>\n",
       "      <td>19</td>\n",
       "      <td>2.0</td>\n",
       "    </tr>\n",
       "    <tr>\n",
       "      <th>3</th>\n",
       "      <td>1768857</td>\n",
       "      <td>82516</td>\n",
       "      <td>56</td>\n",
       "      <td>0</td>\n",
       "      <td>20</td>\n",
       "      <td>10.0</td>\n",
       "    </tr>\n",
       "    <tr>\n",
       "      <th>4</th>\n",
       "      <td>3007858</td>\n",
       "      <td>196724</td>\n",
       "      <td>2</td>\n",
       "      <td>4</td>\n",
       "      <td>12</td>\n",
       "      <td>17.0</td>\n",
       "    </tr>\n",
       "  </tbody>\n",
       "</table>\n",
       "</div>"
      ],
      "text/plain": [
       "   order_id  user_id  order_number  order_dow  order_hour_of_day  \\\n",
       "0   1515936   183418            11          6                 13   \n",
       "1   1690866   163593             5          5                 12   \n",
       "2   1454967    39980             4          5                 19   \n",
       "3   1768857    82516            56          0                 20   \n",
       "4   3007858   196724             2          4                 12   \n",
       "\n",
       "   days_since_prior_order  \n",
       "0                    30.0  \n",
       "1                     9.0  \n",
       "2                     2.0  \n",
       "3                    10.0  \n",
       "4                    17.0  "
      ]
     },
     "execution_count": 4,
     "metadata": {},
     "output_type": "execute_result"
    }
   ],
   "source": [
    "# mostrar información del DataFrame y primeras filas para mayor legibilidad\n",
    "orders.info(show_counts=True)\n",
    "orders.head()"
   ]
  },
  {
   "cell_type": "code",
   "execution_count": 5,
   "id": "5130e05e",
   "metadata": {
    "id": "5130e05e",
    "scrolled": true
   },
   "outputs": [
    {
     "name": "stdout",
     "output_type": "stream",
     "text": [
      "<class 'pandas.core.frame.DataFrame'>\n",
      "RangeIndex: 49694 entries, 0 to 49693\n",
      "Data columns (total 4 columns):\n",
      " #   Column         Non-Null Count  Dtype \n",
      "---  ------         --------------  ----- \n",
      " 0   product_id     49694 non-null  int64 \n",
      " 1   product_name   48436 non-null  object\n",
      " 2   aisle_id       49694 non-null  int64 \n",
      " 3   department_id  49694 non-null  int64 \n",
      "dtypes: int64(3), object(1)\n",
      "memory usage: 1.5+ MB\n"
     ]
    },
    {
     "data": {
      "text/html": [
       "<div>\n",
       "<style scoped>\n",
       "    .dataframe tbody tr th:only-of-type {\n",
       "        vertical-align: middle;\n",
       "    }\n",
       "\n",
       "    .dataframe tbody tr th {\n",
       "        vertical-align: top;\n",
       "    }\n",
       "\n",
       "    .dataframe thead th {\n",
       "        text-align: right;\n",
       "    }\n",
       "</style>\n",
       "<table border=\"1\" class=\"dataframe\">\n",
       "  <thead>\n",
       "    <tr style=\"text-align: right;\">\n",
       "      <th></th>\n",
       "      <th>product_id</th>\n",
       "      <th>product_name</th>\n",
       "      <th>aisle_id</th>\n",
       "      <th>department_id</th>\n",
       "    </tr>\n",
       "  </thead>\n",
       "  <tbody>\n",
       "    <tr>\n",
       "      <th>0</th>\n",
       "      <td>1</td>\n",
       "      <td>Chocolate Sandwich Cookies</td>\n",
       "      <td>61</td>\n",
       "      <td>19</td>\n",
       "    </tr>\n",
       "    <tr>\n",
       "      <th>1</th>\n",
       "      <td>2</td>\n",
       "      <td>All-Seasons Salt</td>\n",
       "      <td>104</td>\n",
       "      <td>13</td>\n",
       "    </tr>\n",
       "    <tr>\n",
       "      <th>2</th>\n",
       "      <td>3</td>\n",
       "      <td>Robust Golden Unsweetened Oolong Tea</td>\n",
       "      <td>94</td>\n",
       "      <td>7</td>\n",
       "    </tr>\n",
       "    <tr>\n",
       "      <th>3</th>\n",
       "      <td>4</td>\n",
       "      <td>Smart Ones Classic Favorites Mini Rigatoni Wit...</td>\n",
       "      <td>38</td>\n",
       "      <td>1</td>\n",
       "    </tr>\n",
       "    <tr>\n",
       "      <th>4</th>\n",
       "      <td>5</td>\n",
       "      <td>Green Chile Anytime Sauce</td>\n",
       "      <td>5</td>\n",
       "      <td>13</td>\n",
       "    </tr>\n",
       "  </tbody>\n",
       "</table>\n",
       "</div>"
      ],
      "text/plain": [
       "   product_id                                       product_name  aisle_id  \\\n",
       "0           1                         Chocolate Sandwich Cookies        61   \n",
       "1           2                                   All-Seasons Salt       104   \n",
       "2           3               Robust Golden Unsweetened Oolong Tea        94   \n",
       "3           4  Smart Ones Classic Favorites Mini Rigatoni Wit...        38   \n",
       "4           5                          Green Chile Anytime Sauce         5   \n",
       "\n",
       "   department_id  \n",
       "0             19  \n",
       "1             13  \n",
       "2              7  \n",
       "3              1  \n",
       "4             13  "
      ]
     },
     "execution_count": 5,
     "metadata": {},
     "output_type": "execute_result"
    }
   ],
   "source": [
    "# mostrar información del DataFrame\n",
    "products.info(show_counts=True)\n",
    "products.head()"
   ]
  },
  {
   "cell_type": "code",
   "execution_count": 6,
   "id": "d8370c05",
   "metadata": {
    "id": "d8370c05"
   },
   "outputs": [
    {
     "name": "stdout",
     "output_type": "stream",
     "text": [
      "<class 'pandas.core.frame.DataFrame'>\n",
      "RangeIndex: 4545007 entries, 0 to 4545006\n",
      "Data columns (total 4 columns):\n",
      " #   Column             Non-Null Count    Dtype  \n",
      "---  ------             --------------    -----  \n",
      " 0   order_id           4545007 non-null  int64  \n",
      " 1   product_id         4545007 non-null  int64  \n",
      " 2   add_to_cart_order  4544171 non-null  float64\n",
      " 3   reordered          4545007 non-null  int64  \n",
      "dtypes: float64(1), int64(3)\n",
      "memory usage: 138.7 MB\n"
     ]
    },
    {
     "data": {
      "text/html": [
       "<div>\n",
       "<style scoped>\n",
       "    .dataframe tbody tr th:only-of-type {\n",
       "        vertical-align: middle;\n",
       "    }\n",
       "\n",
       "    .dataframe tbody tr th {\n",
       "        vertical-align: top;\n",
       "    }\n",
       "\n",
       "    .dataframe thead th {\n",
       "        text-align: right;\n",
       "    }\n",
       "</style>\n",
       "<table border=\"1\" class=\"dataframe\">\n",
       "  <thead>\n",
       "    <tr style=\"text-align: right;\">\n",
       "      <th></th>\n",
       "      <th>order_id</th>\n",
       "      <th>product_id</th>\n",
       "      <th>add_to_cart_order</th>\n",
       "      <th>reordered</th>\n",
       "    </tr>\n",
       "  </thead>\n",
       "  <tbody>\n",
       "    <tr>\n",
       "      <th>0</th>\n",
       "      <td>2141543</td>\n",
       "      <td>11440</td>\n",
       "      <td>17.0</td>\n",
       "      <td>0</td>\n",
       "    </tr>\n",
       "    <tr>\n",
       "      <th>1</th>\n",
       "      <td>567889</td>\n",
       "      <td>1560</td>\n",
       "      <td>1.0</td>\n",
       "      <td>1</td>\n",
       "    </tr>\n",
       "    <tr>\n",
       "      <th>2</th>\n",
       "      <td>2261212</td>\n",
       "      <td>26683</td>\n",
       "      <td>1.0</td>\n",
       "      <td>1</td>\n",
       "    </tr>\n",
       "    <tr>\n",
       "      <th>3</th>\n",
       "      <td>491251</td>\n",
       "      <td>8670</td>\n",
       "      <td>35.0</td>\n",
       "      <td>1</td>\n",
       "    </tr>\n",
       "    <tr>\n",
       "      <th>4</th>\n",
       "      <td>2571142</td>\n",
       "      <td>1940</td>\n",
       "      <td>5.0</td>\n",
       "      <td>1</td>\n",
       "    </tr>\n",
       "  </tbody>\n",
       "</table>\n",
       "</div>"
      ],
      "text/plain": [
       "   order_id  product_id  add_to_cart_order  reordered\n",
       "0   2141543       11440               17.0          0\n",
       "1    567889        1560                1.0          1\n",
       "2   2261212       26683                1.0          1\n",
       "3    491251        8670               35.0          1\n",
       "4   2571142        1940                5.0          1"
      ]
     },
     "execution_count": 6,
     "metadata": {},
     "output_type": "execute_result"
    }
   ],
   "source": [
    "# mostrar información del DataFrame\n",
    "order_products.info(show_counts=True)\n",
    "order_products.head()"
   ]
  },
  {
   "cell_type": "markdown",
   "id": "3b4b7bc0",
   "metadata": {},
   "source": [
    "<div class=\"alert alert-block alert-danger\">\n",
    "<b>Comentario del revisor (1era Iteracion)</b> <a class=“tocSkip”></a>\n",
    "\n",
    "Buen trabajo! Pero cuando tenemos datasets con gran cantidad de filas el método `.info()` puede omitir mostrarlas, en este caso nos interesa saber la cantidad de valores `non-null` por lo que deberías incluir el `show_counts=True` [[docs*](https://pandas.pydata.org/docs/reference/api/pandas.DataFrame.info.html#:~:text=for%20more%20details.-,show_counts,-bool%2C%20optional)] dentro de tu info().\n",
    "</div>"
   ]
  },
  {
   "cell_type": "code",
   "execution_count": 7,
   "id": "d3dedc05",
   "metadata": {},
   "outputs": [],
   "source": [
    "#Listo, gracias por la recomendación"
   ]
  },
  {
   "cell_type": "markdown",
   "id": "13f3a4d0",
   "metadata": {},
   "source": [
    "<div class=\"alert alert-block alert-success\">\n",
    "<b>Comentario del revisor (2da Iteracion)</b> <a class=“tocSkip”></a>\n",
    "\n",
    "Buen trabajo! Ahora se muestran la cantidad de non-null por columna\n",
    "</div>"
   ]
  },
  {
   "cell_type": "code",
   "execution_count": 8,
   "id": "59e2090f",
   "metadata": {
    "id": "59e2090f",
    "scrolled": true
   },
   "outputs": [
    {
     "name": "stdout",
     "output_type": "stream",
     "text": [
      "<class 'pandas.core.frame.DataFrame'>\n",
      "RangeIndex: 134 entries, 0 to 133\n",
      "Data columns (total 2 columns):\n",
      " #   Column    Non-Null Count  Dtype \n",
      "---  ------    --------------  ----- \n",
      " 0   aisle_id  134 non-null    int64 \n",
      " 1   aisle     134 non-null    object\n",
      "dtypes: int64(1), object(1)\n",
      "memory usage: 2.2+ KB\n"
     ]
    },
    {
     "data": {
      "text/html": [
       "<div>\n",
       "<style scoped>\n",
       "    .dataframe tbody tr th:only-of-type {\n",
       "        vertical-align: middle;\n",
       "    }\n",
       "\n",
       "    .dataframe tbody tr th {\n",
       "        vertical-align: top;\n",
       "    }\n",
       "\n",
       "    .dataframe thead th {\n",
       "        text-align: right;\n",
       "    }\n",
       "</style>\n",
       "<table border=\"1\" class=\"dataframe\">\n",
       "  <thead>\n",
       "    <tr style=\"text-align: right;\">\n",
       "      <th></th>\n",
       "      <th>aisle_id</th>\n",
       "      <th>aisle</th>\n",
       "    </tr>\n",
       "  </thead>\n",
       "  <tbody>\n",
       "    <tr>\n",
       "      <th>0</th>\n",
       "      <td>1</td>\n",
       "      <td>prepared soups salads</td>\n",
       "    </tr>\n",
       "    <tr>\n",
       "      <th>1</th>\n",
       "      <td>2</td>\n",
       "      <td>specialty cheeses</td>\n",
       "    </tr>\n",
       "    <tr>\n",
       "      <th>2</th>\n",
       "      <td>3</td>\n",
       "      <td>energy granola bars</td>\n",
       "    </tr>\n",
       "    <tr>\n",
       "      <th>3</th>\n",
       "      <td>4</td>\n",
       "      <td>instant foods</td>\n",
       "    </tr>\n",
       "    <tr>\n",
       "      <th>4</th>\n",
       "      <td>5</td>\n",
       "      <td>marinades meat preparation</td>\n",
       "    </tr>\n",
       "  </tbody>\n",
       "</table>\n",
       "</div>"
      ],
      "text/plain": [
       "   aisle_id                       aisle\n",
       "0         1       prepared soups salads\n",
       "1         2           specialty cheeses\n",
       "2         3         energy granola bars\n",
       "3         4               instant foods\n",
       "4         5  marinades meat preparation"
      ]
     },
     "execution_count": 8,
     "metadata": {},
     "output_type": "execute_result"
    }
   ],
   "source": [
    "# mostrar información del DataFrame\n",
    "aisles.info(show_counts=True)\n",
    "aisles.head()"
   ]
  },
  {
   "cell_type": "code",
   "execution_count": 9,
   "id": "6fc81694",
   "metadata": {
    "id": "6fc81694",
    "scrolled": true
   },
   "outputs": [
    {
     "name": "stdout",
     "output_type": "stream",
     "text": [
      "<class 'pandas.core.frame.DataFrame'>\n",
      "RangeIndex: 21 entries, 0 to 20\n",
      "Data columns (total 2 columns):\n",
      " #   Column         Non-Null Count  Dtype \n",
      "---  ------         --------------  ----- \n",
      " 0   department_id  21 non-null     int64 \n",
      " 1   department     21 non-null     object\n",
      "dtypes: int64(1), object(1)\n",
      "memory usage: 464.0+ bytes\n"
     ]
    },
    {
     "data": {
      "text/html": [
       "<div>\n",
       "<style scoped>\n",
       "    .dataframe tbody tr th:only-of-type {\n",
       "        vertical-align: middle;\n",
       "    }\n",
       "\n",
       "    .dataframe tbody tr th {\n",
       "        vertical-align: top;\n",
       "    }\n",
       "\n",
       "    .dataframe thead th {\n",
       "        text-align: right;\n",
       "    }\n",
       "</style>\n",
       "<table border=\"1\" class=\"dataframe\">\n",
       "  <thead>\n",
       "    <tr style=\"text-align: right;\">\n",
       "      <th></th>\n",
       "      <th>department_id</th>\n",
       "      <th>department</th>\n",
       "    </tr>\n",
       "  </thead>\n",
       "  <tbody>\n",
       "    <tr>\n",
       "      <th>0</th>\n",
       "      <td>1</td>\n",
       "      <td>frozen</td>\n",
       "    </tr>\n",
       "    <tr>\n",
       "      <th>1</th>\n",
       "      <td>2</td>\n",
       "      <td>other</td>\n",
       "    </tr>\n",
       "    <tr>\n",
       "      <th>2</th>\n",
       "      <td>3</td>\n",
       "      <td>bakery</td>\n",
       "    </tr>\n",
       "    <tr>\n",
       "      <th>3</th>\n",
       "      <td>4</td>\n",
       "      <td>produce</td>\n",
       "    </tr>\n",
       "    <tr>\n",
       "      <th>4</th>\n",
       "      <td>5</td>\n",
       "      <td>alcohol</td>\n",
       "    </tr>\n",
       "  </tbody>\n",
       "</table>\n",
       "</div>"
      ],
      "text/plain": [
       "   department_id department\n",
       "0              1     frozen\n",
       "1              2      other\n",
       "2              3     bakery\n",
       "3              4    produce\n",
       "4              5    alcohol"
      ]
     },
     "execution_count": 9,
     "metadata": {},
     "output_type": "execute_result"
    }
   ],
   "source": [
    "# mostrar información del DataFrame\n",
    "departments.info(show_counts=True)\n",
    "departments.head()"
   ]
  },
  {
   "cell_type": "markdown",
   "id": "29fb776d",
   "metadata": {},
   "source": [
    "<div class=\"alert alert-block alert-warning\">\n",
    "<b>Comentario del revisor (1era Iteracion)</b> <a class=“tocSkip”></a>\n",
    "\n",
    "Has hecho un buen trabajo mostrando información de tus dataset, solo recuerda que cuando trabajamos con Jupyter Notebooks podemos omitir el uso de `print` para mostrar los DataFrames, solo debes escribir la variable donde se está almacenando tu DataFrame y este se mostrará de una manera tabular y mejor presentada lo que te ayudará a visualizar mejor tu dataset.\n",
    "    \n",
    "Por ejemplo: `df.head()` y tendrás un resultado cómo este:\n",
    "    \n",
    "| col1 | col2 | col3 |\n",
    "|------|------|------|\n",
    "| dato | dato | dato |\n",
    "| dato | dato | dato |\n",
    "| dato | dato | dato |\n",
    "\n",
    "</div>"
   ]
  },
  {
   "cell_type": "code",
   "execution_count": 10,
   "id": "5607a1d0",
   "metadata": {},
   "outputs": [],
   "source": [
    "#Listo, gracias"
   ]
  },
  {
   "cell_type": "markdown",
   "id": "16dd15f0",
   "metadata": {},
   "source": [
    "<div class=\"alert alert-block alert-success\">\n",
    "<b>Comentario del revisor (2da Iteracion)</b> <a class=“tocSkip”></a>\n",
    "\n",
    "Genial! Buen trabajo\n",
    "</div>"
   ]
  },
  {
   "cell_type": "markdown",
   "id": "t75BD19oaR5f",
   "metadata": {
    "id": "t75BD19oaR5f"
   },
   "source": [
    "## Conclusiones\n",
    "\n",
    "Se necesitó procesar los datos de todos los DataFrames para mayor legibilidad ya que inicialmente al estar separados por ';' se distinguian unicamente por tipo object, ahora ya se dividieron en columnas por el argumento sep='', lo que hizo que el tipo de datos cambiaran entre int64, float y object según era el caso. Requeriremos cambiar el tipo de datos de la columna orders_days_since_prior de 'orders' al igual que el tipo de datos departments_add_to_cart_order de 'departments' ya que ambos son flotantes y al ser número de ordenes pueden ser enteros.\n",
    "Requeriremos eliminar valores ausentes y duplicados.\n",
    "\n",
    "\n"
   ]
  },
  {
   "cell_type": "markdown",
   "id": "8RJHqxVmaVsF",
   "metadata": {
    "id": "8RJHqxVmaVsF"
   },
   "source": [
    "# Paso 2. Preprocesamiento de los datos\n",
    "\n",
    "Preprocesa los datos de la siguiente manera:\n",
    "\n",
    "- Verifica y corrige los tipos de datos (por ejemplo, asegúrate de que las columnas de ID sean números enteros).\n",
    "- Identifica y completa los valores ausentes.\n",
    "- Identifica y elimina los valores duplicados.\n",
    "\n",
    "Asegúrate de explicar qué tipos de valores ausentes y duplicados encontraste, cómo los completaste o eliminaste y por qué usaste esos métodos. ¿Por qué crees que estos valores ausentes y duplicados pueden haber estado presentes en el conjunto de datos?"
   ]
  },
  {
   "cell_type": "markdown",
   "id": "p6poABZQaZYb",
   "metadata": {
    "id": "p6poABZQaZYb"
   },
   "source": [
    "## Plan de solución\n",
    "\n",
    " Primero verificaremos la cantidad de valores unicos en cada dataframe con el método nunique, posteriormente eliminariamos los datos duplicados que no sean necesario para el análisis con drop_duplicates, posteriormente se identificarán las columnas con datos ausentes para eliminar aquellas que no sean útiles para el análisis y renombraremos aquellos que si utilicemos a 'unknown' con el método rename. Finalmente se eliminarian los datos duplicados. Después de ver los tipos de datos, se harán las conversiones de tipo de datos de la columna orders_days_since_prior de 'orders' al igual que el tipo de datos departments_add_to_cart_order de 'departments' ya que ambos son flotantes y al ser número de ordenes pueden ser enteros."
   ]
  },
  {
   "cell_type": "markdown",
   "id": "07357848-dc64-4156-9cc3-01ff4365226d",
   "metadata": {
    "id": "07357848-dc64-4156-9cc3-01ff4365226d"
   },
   "source": [
    "## Encuentra y elimina los valores duplicados (y describe cómo tomaste tus decisiones)."
   ]
  },
  {
   "cell_type": "markdown",
   "id": "f179f0a9",
   "metadata": {
    "id": "f179f0a9"
   },
   "source": [
    "### `orders` data frame"
   ]
  },
  {
   "cell_type": "code",
   "execution_count": 11,
   "id": "b99297a5-405a-463d-8535-9adc3da4ad74",
   "metadata": {
    "id": "b99297a5-405a-463d-8535-9adc3da4ad74",
    "scrolled": true
   },
   "outputs": [
    {
     "name": "stdout",
     "output_type": "stream",
     "text": [
      "order_id                  478952\n",
      "user_id                   157437\n",
      "order_number                 100\n",
      "order_dow                      7\n",
      "order_hour_of_day             24\n",
      "days_since_prior_order        31\n",
      "dtype: int64\n"
     ]
    }
   ],
   "source": [
    "# Revisa si hay pedidos duplicados, revisaremos en instacar_orders si hay pedidos duplicados con la funcion nunique \n",
    "#que devolverá el número de valores unicos. Sabemos que tenemos 478967 entradas.\n",
    "print(orders.nunique()) \n"
   ]
  },
  {
   "cell_type": "markdown",
   "id": "PEkwUX_gvt5A",
   "metadata": {
    "id": "PEkwUX_gvt5A"
   },
   "source": [
    "Encontramos que hay 15 filas duplicadas. Al tener 478967 filas en total y 478952 filas unicas"
   ]
  },
  {
   "cell_type": "markdown",
   "id": "5e5ca263",
   "metadata": {},
   "source": [
    "<div class=\"alert alert-block alert-warning\">\n",
    "<b>Comentario del revisor (1era Iteracion)</b> <a class=“tocSkip”></a>\n",
    "\n",
    "Buen trabajo! Encontraste cuantas filas duplicadas existen, pero una manera más rápida de hacerlo es utilizado `.duplicated()` y luego haciendo una suma de la cantidad de filas que retorna cómo duplicadas aplicando `.sum()`, por ejemplo: `duplicated_rows = df.duplicaded().sum()`\n",
    "</div>"
   ]
  },
  {
   "cell_type": "code",
   "execution_count": 12,
   "id": "0d44de5d",
   "metadata": {
    "id": "0d44de5d",
    "scrolled": true
   },
   "outputs": [
    {
     "data": {
      "text/plain": [
       "(121, 6)"
      ]
     },
     "execution_count": 12,
     "metadata": {},
     "output_type": "execute_result"
    }
   ],
   "source": [
    "# Basándote en tus hallazgos,\n",
    "# Verifica todos los pedidos que se hicieron el miércoles a las 2:00 a.m.\n",
    "### utilizaremos filtros que cumplan con ambas condiciones en un nuevo data frame\n",
    "filter_day_hour = orders[(orders['order_dow']== 3) & (orders['order_hour_of_day']==2)]\n",
    "\n",
    "                         \n",
    "                         \n",
    "filter_day_hour.shape\n",
    "\n"
   ]
  },
  {
   "cell_type": "markdown",
   "id": "vu2OWyoqwOx5",
   "metadata": {
    "id": "vu2OWyoqwOx5"
   },
   "source": [
    "Nos encontramos con un nuevo data frame que contiene las filas que cumplen la condición, utilizando .shape obtenemos que son 121 filas."
   ]
  },
  {
   "cell_type": "markdown",
   "id": "bcba6499",
   "metadata": {},
   "source": [
    "<div class=\"alert alert-block alert-danger\">\n",
    "<b>Comentario del revisor (1era Iteracion)</b> <a class=“tocSkip”></a>\n",
    "\n",
    "Buen trabajo haciendo el filtrado de tus datos, pero parece que hubo una confusión con el enunciado, pero no pasa nada te lo aclaro para que puedas resolverlo. Lo que nos interesa en esta parte es saber cuantos pedidos cumplen esa condición, por lo que el número de filas del DataFrame `filter_day_hour` sería tu respuesta correcta.\n",
    "</div>"
   ]
  },
  {
   "cell_type": "code",
   "execution_count": 13,
   "id": "653d2630",
   "metadata": {},
   "outputs": [],
   "source": [
    "#Listo, he cambiado la respuesta. muchas gracias"
   ]
  },
  {
   "cell_type": "markdown",
   "id": "a0caf0a9",
   "metadata": {},
   "source": [
    "<div class=\"alert alert-block alert-success\">\n",
    "<b>Comentario del revisor (2da Iteracion)</b> <a class=“tocSkip”></a>\n",
    "\n",
    "Buen trabajo realizando los cambios\n",
    "</div>"
   ]
  },
  {
   "cell_type": "code",
   "execution_count": 14,
   "id": "480563c7",
   "metadata": {
    "id": "480563c7"
   },
   "outputs": [],
   "source": [
    "# Elimina los pedidos duplicados\n",
    "## Creamos un nuevo data frame eliminando las filas duplicadas\n",
    "orders = orders.drop_duplicates()"
   ]
  },
  {
   "cell_type": "code",
   "execution_count": 15,
   "id": "0b2396a2",
   "metadata": {
    "id": "0b2396a2",
    "scrolled": true
   },
   "outputs": [
    {
     "data": {
      "text/plain": [
       "0"
      ]
     },
     "execution_count": 15,
     "metadata": {},
     "output_type": "execute_result"
    }
   ],
   "source": [
    "# Vuelve a verificar si hay filas duplicadas\n",
    "orders.duplicated().sum()"
   ]
  },
  {
   "cell_type": "code",
   "execution_count": 16,
   "id": "f6113ef1",
   "metadata": {
    "id": "f6113ef1"
   },
   "outputs": [
    {
     "data": {
      "text/plain": [
       "0"
      ]
     },
     "execution_count": 16,
     "metadata": {},
     "output_type": "execute_result"
    }
   ],
   "source": [
    "# Vuelve a verificar únicamente si hay IDs duplicados de pedidos\n",
    "orders['order_id'].duplicated().sum()"
   ]
  },
  {
   "cell_type": "markdown",
   "id": "5e8905ae",
   "metadata": {
    "id": "5e8905ae"
   },
   "source": [
    "Se detectaron 15 filas duplicadas de pedidos realizados el miércoles a las 2am, se procedió a eliminar los datos duplicados con el método drop.duplicates y después se corroboró si existian más con duplicated().sum() asegurándonos de que no hubiesen más filas repetidas. Igualmente se verificó con los Id de pedidos."
   ]
  },
  {
   "cell_type": "markdown",
   "id": "9c7ee174",
   "metadata": {},
   "source": [
    "<div class=\"alert alert-block alert-success\">\n",
    "<b>Comentario del revisor (1era Iteracion)</b> <a class=“tocSkip”></a>\n",
    "\n",
    "Muy buen trabajo removiendo las filas duplicadas, recuerda que en futuros proyectos el tener valores duplicados puede afectar las métricas calculadas en nuestro análisis.\n",
    "</div>"
   ]
  },
  {
   "cell_type": "markdown",
   "id": "45e6bc46",
   "metadata": {
    "id": "45e6bc46"
   },
   "source": [
    "### `products` data frame"
   ]
  },
  {
   "cell_type": "code",
   "execution_count": 17,
   "id": "5f526b5b-8175-46fa-a0fd-441767d50e64",
   "metadata": {
    "id": "5f526b5b-8175-46fa-a0fd-441767d50e64",
    "scrolled": true
   },
   "outputs": [
    {
     "data": {
      "text/plain": [
       "0"
      ]
     },
     "execution_count": 17,
     "metadata": {},
     "output_type": "execute_result"
    }
   ],
   "source": [
    "# Verifica si hay filas totalmente duplicadas\n",
    "products.duplicated().sum()"
   ]
  },
  {
   "cell_type": "code",
   "execution_count": 18,
   "id": "88daa4f4",
   "metadata": {
    "id": "88daa4f4"
   },
   "outputs": [
    {
     "name": "stdout",
     "output_type": "stream",
     "text": [
      "49673\n"
     ]
    },
    {
     "data": {
      "text/plain": [
       "array([19, 13,  7,  1, 11, 16, 17, 18, 12,  9,  8, 14, 15,  4, 21,  6, 20,\n",
       "        5,  3,  2, 10])"
      ]
     },
     "execution_count": 18,
     "metadata": {},
     "output_type": "execute_result"
    }
   ],
   "source": [
    "# Revisa únicamente si hay ID de departamentos duplicados\n",
    "print(products['department_id'].duplicated().sum()) \n",
    "\n",
    "## Verificamos los valores únicos ya que existen demasiados id de departamentos duplicados\n",
    "products['department_id'].unique()"
   ]
  },
  {
   "cell_type": "code",
   "execution_count": 19,
   "id": "c773f0bf",
   "metadata": {
    "id": "c773f0bf"
   },
   "outputs": [
    {
     "name": "stdout",
     "output_type": "stream",
     "text": [
      "1361\n"
     ]
    },
    {
     "data": {
      "text/plain": [
       "48332"
      ]
     },
     "execution_count": 19,
     "metadata": {},
     "output_type": "execute_result"
    }
   ],
   "source": [
    "# Revisa únicamente si hay nombres duplicados de productos (convierte los nombres a letras mayúsculas para compararlos mejor)\n",
    "#primero convertimos nuestros datos a muyúsculas\n",
    "products['product_name'] = products['product_name'].str.upper()\n",
    "#contamos los valores duplicados y rectificamos considerando los valores unicos\n",
    "print(products['product_name'].duplicated().sum()) \n",
    "products['product_name'].nunique()"
   ]
  },
  {
   "cell_type": "code",
   "execution_count": 20,
   "id": "01efd02e",
   "metadata": {
    "id": "01efd02e",
    "scrolled": true
   },
   "outputs": [
    {
     "data": {
      "text/plain": [
       "0"
      ]
     },
     "execution_count": 20,
     "metadata": {},
     "output_type": "execute_result"
    }
   ],
   "source": [
    "# Revisa si hay nombres duplicados de productos no faltantes\n",
    "products[products[\"product_name\"].notna()].duplicated().sum()\n"
   ]
  },
  {
   "cell_type": "markdown",
   "id": "9da8d293",
   "metadata": {
    "id": "9da8d293"
   },
   "source": [
    "Se utilizó el método duplicated para verificar si tenemos valores duplicados en nuestras tablas. En el caso de nombres de productos se requirió corregir los nombres antes de verificar los duplicados. No hay filas completamente duplicadas, pero si existen muchas con nombres duplicados; esto puede deberse a fallos en el sistema o que se han ingresado los datos de manera repetida en la aplicación, lo que puede provocar que al procesar los datos los resultados estén alterados y no sean representativos. De los datos duplicados se encuentran 104 valores ausentes, que también pueden afectar la visualización completa de los resultados. Antes de continuar con la visualización de datos mediante gráficos, es importante filtrar los valores que si son representativos en el análisis."
   ]
  },
  {
   "cell_type": "markdown",
   "id": "1ac302f4",
   "metadata": {},
   "source": [
    "<div class=\"alert alert-block alert-warning\">\n",
    "<b>Comentario del revisor (1era Iteracion)</b> <a class=“tocSkip”></a>\n",
    "\n",
    "Buen trabajo con el dataset de productos, solo una recomendación en la última parte. Tu conclusión es correcta pero debería ser más específico en cómo llegaste a ella.\n",
    "</div>"
   ]
  },
  {
   "cell_type": "code",
   "execution_count": 21,
   "id": "cfdc574f",
   "metadata": {},
   "outputs": [],
   "source": [
    "#Gracias por la corrección, he agregado más detalle."
   ]
  },
  {
   "cell_type": "markdown",
   "id": "60f30db1",
   "metadata": {
    "id": "60f30db1"
   },
   "source": [
    "### `departments` data frame"
   ]
  },
  {
   "cell_type": "code",
   "execution_count": 22,
   "id": "fb410ad4-0fbf-4b80-bb09-23fdea79afe3",
   "metadata": {
    "id": "fb410ad4-0fbf-4b80-bb09-23fdea79afe3",
    "scrolled": false
   },
   "outputs": [
    {
     "data": {
      "text/plain": [
       "0"
      ]
     },
     "execution_count": 22,
     "metadata": {},
     "output_type": "execute_result"
    }
   ],
   "source": [
    "# Revisa si hay filas totalmente duplicadas\n",
    "departments.duplicated().sum()"
   ]
  },
  {
   "cell_type": "code",
   "execution_count": 23,
   "id": "332b12bb",
   "metadata": {
    "id": "332b12bb",
    "scrolled": true
   },
   "outputs": [
    {
     "name": "stdout",
     "output_type": "stream",
     "text": [
      "0\n"
     ]
    }
   ],
   "source": [
    "# Revisa únicamente si hay IDs duplicadas de productos\n",
    "print(departments['department_id'].duplicated().sum())"
   ]
  },
  {
   "cell_type": "markdown",
   "id": "bd30d78e",
   "metadata": {
    "id": "bd30d78e"
   },
   "source": [
    "No hay valores duplicados en esta tabla"
   ]
  },
  {
   "cell_type": "markdown",
   "id": "889349c1",
   "metadata": {
    "id": "889349c1"
   },
   "source": [
    "### `aisles` data frame"
   ]
  },
  {
   "cell_type": "code",
   "execution_count": 24,
   "id": "9da89fb9-4679-40f5-ad0d-c34df753a3f8",
   "metadata": {
    "id": "9da89fb9-4679-40f5-ad0d-c34df753a3f8"
   },
   "outputs": [
    {
     "data": {
      "text/plain": [
       "0"
      ]
     },
     "execution_count": 24,
     "metadata": {},
     "output_type": "execute_result"
    }
   ],
   "source": [
    "# Revisa si hay filas totalmente duplicadas\n",
    "aisles.duplicated().sum()"
   ]
  },
  {
   "cell_type": "code",
   "execution_count": 25,
   "id": "da7c2822",
   "metadata": {
    "id": "da7c2822",
    "scrolled": false
   },
   "outputs": [
    {
     "name": "stdout",
     "output_type": "stream",
     "text": [
      "0\n"
     ]
    }
   ],
   "source": [
    "# Revisa únicamente si hay IDs duplicadas de productos\n",
    "print(aisles['aisle_id'].duplicated().sum())"
   ]
  },
  {
   "cell_type": "markdown",
   "id": "ac63826f",
   "metadata": {
    "id": "ac63826f"
   },
   "source": [
    "No hay filas ni id duplicados."
   ]
  },
  {
   "cell_type": "markdown",
   "id": "3aea5b76",
   "metadata": {},
   "source": [
    "<div class=\"alert alert-block alert-success\">\n",
    "<b>Comentario del revisor (1era Iteracion)</b> <a class=“tocSkip”></a>\n",
    "\n",
    "Buen trabajo con el dataset de `aisles` y `departments`!\n",
    "</div>"
   ]
  },
  {
   "cell_type": "markdown",
   "id": "274cd06a",
   "metadata": {
    "id": "274cd06a"
   },
   "source": [
    "### `order_products` data frame"
   ]
  },
  {
   "cell_type": "code",
   "execution_count": 26,
   "id": "52326689-84a8-4b8f-a881-7c68780f62c9",
   "metadata": {
    "id": "52326689-84a8-4b8f-a881-7c68780f62c9"
   },
   "outputs": [
    {
     "data": {
      "text/plain": [
       "0"
      ]
     },
     "execution_count": 26,
     "metadata": {},
     "output_type": "execute_result"
    }
   ],
   "source": [
    "# Revisa si hay filas totalmente duplicadas\n",
    "order_products[['product_id', 'order_id']].duplicated().sum()"
   ]
  },
  {
   "cell_type": "code",
   "execution_count": 33,
   "id": "7b861391",
   "metadata": {
    "id": "7b861391"
   },
   "outputs": [
    {
     "data": {
      "text/plain": [
       "product_id     45573\n",
       "order_id      450046\n",
       "dtype: int64"
      ]
     },
     "execution_count": 33,
     "metadata": {},
     "output_type": "execute_result"
    }
   ],
   "source": [
    "# Vuelve a verificar si hay cualquier otro duplicado engañoso\n",
    "\n",
    "order_products[['product_id', 'order_id']].nunique()"
   ]
  },
  {
   "cell_type": "markdown",
   "id": "0b890492",
   "metadata": {
    "id": "0b890492"
   },
   "source": [
    "Nos encontramos sin valores duplicados en nuestras columnas de interés, pero detectamos que hay menos valores unicos en la columna products_id que en orders_id. "
   ]
  },
  {
   "cell_type": "markdown",
   "id": "34690b53",
   "metadata": {},
   "source": [
    "<div class=\"alert alert-block alert-warning\">\n",
    "<b>Comentario del revisor (1era Iteracion)</b> <a class=“tocSkip”></a>\n",
    "\n",
    "Lo hiciste bien con el dataset de `order_products`, te recomiendo para la última parte revisar si existen filas donde se repita un mismo `product_id` para la misma `order_id`, puedes usar solo esas dos columnas para tu comparación.\n",
    "</div>"
   ]
  },
  {
   "cell_type": "code",
   "execution_count": 28,
   "id": "746bbe8a",
   "metadata": {},
   "outputs": [],
   "source": [
    "#perdona, no entiendo bien esta parte, me podrías aclarar como?"
   ]
  },
  {
   "cell_type": "markdown",
   "id": "7fe412e7",
   "metadata": {},
   "source": [
    "<div class=\"alert alert-block alert-info\">\n",
    "<b>Comentario del revisor (2da Iteracion)</b> <a class=“tocSkip”></a>\n",
    "\n",
    "Claro Erika! Cuando aplicas `.unique()` directamente al dataset este realiza una comparación para todas las columnas, pero en este caso solo nos interesa revisar dos columns, por lo que la solución sería aplicar el .unique() o .duplicated a tu dataframe tomando las columnas de interés, por ejemplo: `df[['col1', 'col2']].unique()` o `df[['col1', 'col2']].duplicated().sum()`\n",
    "</div>"
   ]
  },
  {
   "cell_type": "code",
   "execution_count": 34,
   "id": "ab4fdde3",
   "metadata": {},
   "outputs": [],
   "source": [
    "#Listo, muchas gracias"
   ]
  },
  {
   "cell_type": "markdown",
   "id": "10a33166",
   "metadata": {},
   "source": [
    "<div class=\"alert alert-block alert-warning\">\n",
    "<b>Comentario del revisor (3ra Iteracion)</b> <a class=“tocSkip”></a>\n",
    "\n",
    "Buen trabajo! Aunque para estos casos y para que sea más fácil de analizar es más recomendable usar la opción de `duplicated().sum()`\n",
    "</div>"
   ]
  },
  {
   "cell_type": "markdown",
   "id": "1e46de76",
   "metadata": {
    "id": "1e46de76"
   },
   "source": [
    "## Encuentra y elimina los valores ausentes\n",
    "\n",
    "Al trabajar con valores duplicados, pudimos observar que también nos falta investigar valores ausentes:\n",
    "\n",
    "* La columna `'product_name'` de la tabla products.\n",
    "* La columna `'days_since_prior_order'` de la tabla orders.\n",
    "* La columna `'add_to_cart_order'` de la tabla order_productos."
   ]
  },
  {
   "cell_type": "markdown",
   "id": "c0aebd78",
   "metadata": {
    "id": "c0aebd78"
   },
   "source": [
    "### `products` data frame"
   ]
  },
  {
   "cell_type": "code",
   "execution_count": 29,
   "id": "fe4a8b0f",
   "metadata": {
    "id": "fe4a8b0f"
   },
   "outputs": [
    {
     "name": "stdout",
     "output_type": "stream",
     "text": [
      "       product_id product_name  aisle_id  department_id\n",
      "37             38          NaN       100             21\n",
      "71             72          NaN       100             21\n",
      "109           110          NaN       100             21\n",
      "296           297          NaN       100             21\n",
      "416           417          NaN       100             21\n",
      "...           ...          ...       ...            ...\n",
      "49552       49553          NaN       100             21\n",
      "49574       49575          NaN       100             21\n",
      "49640       49641          NaN       100             21\n",
      "49663       49664          NaN       100             21\n",
      "49668       49669          NaN       100             21\n",
      "\n",
      "[1258 rows x 4 columns]\n"
     ]
    },
    {
     "data": {
      "text/plain": [
       "1258"
      ]
     },
     "execution_count": 29,
     "metadata": {},
     "output_type": "execute_result"
    }
   ],
   "source": [
    "# Encuentra los valores ausentes en la columna 'product_name'\n",
    "print(products[products['product_name'].isna()])\n",
    "\n",
    "#contamos los valores ausentes\n",
    "products['product_name'].isnull().sum()\n"
   ]
  },
  {
   "cell_type": "markdown",
   "id": "-A6x1AbJhjkp",
   "metadata": {
    "id": "-A6x1AbJhjkp"
   },
   "source": [
    "Los productos que no tienen nombre se encuentran en la isla con id 100 y el departamento 21. Hay 1258 valores ausentes."
   ]
  },
  {
   "cell_type": "code",
   "execution_count": 30,
   "id": "e96167bc",
   "metadata": {
    "id": "e96167bc",
    "scrolled": true
   },
   "outputs": [
    {
     "data": {
      "text/plain": [
       "100    1258\n",
       "45     1246\n",
       "37     1091\n",
       "47     1038\n",
       "120    1026\n",
       "       ... \n",
       "113      47\n",
       "82       44\n",
       "32       32\n",
       "68       26\n",
       "18       12\n",
       "Name: aisle_id, Length: 134, dtype: int64"
      ]
     },
     "execution_count": 30,
     "metadata": {},
     "output_type": "execute_result"
    }
   ],
   "source": [
    "#  ¿Todos los nombres de productos ausentes están relacionados con el pasillo con ID 100?\n",
    "# mostramos los valores unicos de la columna aisle_id para verificar si 100 se repite la misma cantidad de veces que los valores ausentes.\n",
    "products['aisle_id'].value_counts()"
   ]
  },
  {
   "cell_type": "markdown",
   "id": "WRpIfXRphpSL",
   "metadata": {
    "id": "WRpIfXRphpSL"
   },
   "source": [
    "La cantidad de valores ausentes corresponde a la misma cantidad de veces que se menciona la isla 100."
   ]
  },
  {
   "cell_type": "code",
   "execution_count": 31,
   "id": "8fd0a541",
   "metadata": {
    "id": "8fd0a541"
   },
   "outputs": [
    {
     "data": {
      "text/plain": [
       "11    6564\n",
       "19    6264\n",
       "13    5372\n",
       "7     4366\n",
       "1     4008\n",
       "16    3449\n",
       "17    3085\n",
       "15    2092\n",
       "9     1858\n",
       "4     1684\n",
       "3     1516\n",
       "20    1322\n",
       "21    1258\n",
       "6     1139\n",
       "14    1117\n",
       "18    1081\n",
       "5     1054\n",
       "8      972\n",
       "12     907\n",
       "2      548\n",
       "10      38\n",
       "Name: department_id, dtype: int64"
      ]
     },
     "execution_count": 31,
     "metadata": {},
     "output_type": "execute_result"
    }
   ],
   "source": [
    "# ¿Todos los nombres de productos ausentes están relacionados con el departamento con ID 21?\n",
    "# utilizaremos el mismo metodo de value counts para encontrar las veces que vemos al departamento 21\n",
    "products['department_id'].value_counts()\n"
   ]
  },
  {
   "cell_type": "markdown",
   "id": "qDpdYn1Fht_I",
   "metadata": {
    "id": "qDpdYn1Fht_I"
   },
   "source": [
    "Nos encontramos con 1258 repeticiones del pasillo 100, el departemento 21 y es la misma cantidad de veces que tenemos valores ausentes. Por lo que podemos deducir que los valores ausentes comparten esas caracteristicas."
   ]
  },
  {
   "cell_type": "markdown",
   "id": "2140fc0e",
   "metadata": {},
   "source": [
    "<div class=\"alert alert-block alert-success\">\n",
    "<b>Comentario del revisor (1era Iteracion)</b> <a class=“tocSkip”></a>\n",
    "\n",
    "Buen trabajo! Otra forma de que llegues a esa conclusión es haciendo un filtro cómo este:\n",
    "    \n",
    "```Python\n",
    "products[(products['product_name'].isna()) & (products['aisle_id'] != 100)] \n",
    "```\n",
    "    \n",
    "De esa manera te aseguras directament de mostrar los productos que cumplan con esa condición, que en este caso sería ninguno lo que nos dice que todos los ausentes corresponden a ese `aisle_id`\n",
    "</div>"
   ]
  },
  {
   "cell_type": "code",
   "execution_count": 37,
   "id": "325c3464",
   "metadata": {
    "id": "325c3464",
    "scrolled": true
   },
   "outputs": [
    {
     "name": "stdout",
     "output_type": "stream",
     "text": [
      "    aisle_id    aisle\n",
      "99       100  missing\n",
      "    department_id department\n",
      "20             21    missing\n"
     ]
    }
   ],
   "source": [
    "# Usa las tablas department y aisle para revisar los datos del pasillo con ID 100 y el departamento con ID 21.\n",
    "print(aisles[(aisles['aisle_id']==100)])\n",
    "print(departments[(departments['department_id']==21)])"
   ]
  },
  {
   "cell_type": "markdown",
   "id": "nqhSTUPhhvEJ",
   "metadata": {
    "id": "nqhSTUPhhvEJ"
   },
   "source": [
    "Nos encontramos con que hay información faltante en el aisle_id 100 y el department_id 21."
   ]
  },
  {
   "cell_type": "markdown",
   "id": "b86e1002",
   "metadata": {},
   "source": [
    "<div class=\"alert alert-block alert-danger\">\n",
    "<b>Comentario del revisor (1era Iteracion)</b> <a class=“tocSkip”></a>\n",
    "\n",
    "Parece que hubo una confusión, recuerda que el enunciado nos dice que usemos las tablas deparment y aisles, `departments` nos dará información para ese departamento y lo mismo con `aisles`.\n",
    "</div>"
   ]
  },
  {
   "cell_type": "code",
   "execution_count": 33,
   "id": "7d4cba37",
   "metadata": {},
   "outputs": [],
   "source": [
    "#No estoy segura de haber entendido, así que generé dos tablas diferentes, una para departamento y otra oara pasillos y ambas son iguales."
   ]
  },
  {
   "cell_type": "markdown",
   "id": "2f463bdd",
   "metadata": {},
   "source": [
    "<div class=\"alert alert-block alert-info\">\n",
    "<b>Comentario del revisor (2da Iteracion)</b> <a class=“tocSkip”></a>\n",
    "\n",
    "Claro, estás en lo correcto en que filtrando de la tabla productos dan resultados iguales. Lo que el enunciado pide es que muestres datos cómo el nombre por ejemplo, para el department_id y el aisle_id mencionado. Y para encontrar el nombre debes usar los datos en tus variables `departments` y `aisles`, es similar al proceso que hiciste en tu corrección pero en el primer print sería con aisles en lugar de productos y en el segundo con departments, algo así: `aisles[(aisles['aisle_id']==100)]`\n",
    "</div>"
   ]
  },
  {
   "cell_type": "code",
   "execution_count": 38,
   "id": "0d8f41f2",
   "metadata": {},
   "outputs": [],
   "source": [
    "#Entendido, hice la corrección"
   ]
  },
  {
   "cell_type": "markdown",
   "id": "6f8a49cb",
   "metadata": {},
   "source": [
    "<div class=\"alert alert-block alert-success\">\n",
    "<b>Comentario del revisor (3ra Iteracion)</b> <a class=“tocSkip”></a>\n",
    "\n",
    "Buen trabajo! Ahora ya puedes ver los datos de esos dos filtros en sus respectivos datasets\n",
    "</div>"
   ]
  },
  {
   "cell_type": "code",
   "execution_count": 34,
   "id": "6b295120",
   "metadata": {
    "id": "6b295120"
   },
   "outputs": [
    {
     "name": "stdout",
     "output_type": "stream",
     "text": [
      "product_id       0\n",
      "product_name     0\n",
      "aisle_id         0\n",
      "department_id    0\n",
      "dtype: int64\n"
     ]
    }
   ],
   "source": [
    "# Completa los nombres de productos ausentes con 'Unknown'\n",
    "#utilizaremos el metodo fillna, posteriormente revisaremos los valores ausentes nuevamente\n",
    "products['product_name'] = products['product_name'].fillna('Unknown')\n",
    "print(products.isna().sum())"
   ]
  },
  {
   "cell_type": "markdown",
   "id": "fc70e5ad",
   "metadata": {
    "id": "fc70e5ad"
   },
   "source": [
    "Comprobamos que en la tabla de productos ya no hay mas valores ausentes."
   ]
  },
  {
   "cell_type": "markdown",
   "id": "c6fb61a3",
   "metadata": {},
   "source": [
    "<div class=\"alert alert-block alert-success\">\n",
    "<b>Comentario del revisor (1era Iteracion)</b> <a class=“tocSkip”></a>\n",
    "\n",
    "Bien hecho! Lograste remover tus valores ausentes, recuerda mantener la buena práctica de dejar espacios a los lados del `=` cada que hagas una asignación de valores a una variable.\n",
    "</div>"
   ]
  },
  {
   "cell_type": "markdown",
   "id": "7eb45c86",
   "metadata": {
    "id": "7eb45c86"
   },
   "source": [
    "### `orders` data frame"
   ]
  },
  {
   "cell_type": "code",
   "execution_count": 35,
   "id": "93e41d96",
   "metadata": {
    "id": "93e41d96"
   },
   "outputs": [
    {
     "data": {
      "text/plain": [
       "order_id                      0\n",
       "user_id                       0\n",
       "order_number                  0\n",
       "order_dow                     0\n",
       "order_hour_of_day             0\n",
       "days_since_prior_order    28817\n",
       "dtype: int64"
      ]
     },
     "execution_count": 35,
     "metadata": {},
     "output_type": "execute_result"
    }
   ],
   "source": [
    "# Encuentra los valores ausentes\n",
    "orders.isnull().sum()"
   ]
  },
  {
   "cell_type": "code",
   "execution_count": 36,
   "id": "166e5a86",
   "metadata": {
    "id": "166e5a86"
   },
   "outputs": [
    {
     "name": "stdout",
     "output_type": "stream",
     "text": [
      "order_id                  0\n",
      "user_id                   0\n",
      "order_number              0\n",
      "order_dow                 0\n",
      "order_hour_of_day         0\n",
      "days_since_prior_order    0\n",
      "dtype: int64\n"
     ]
    }
   ],
   "source": [
    "# ¿Hay algún valor ausente que no sea el primer pedido del cliente?\n",
    "print(orders[(orders['order_number']!=1)].isnull().sum())\n"
   ]
  },
  {
   "cell_type": "markdown",
   "id": "47cdd0c2",
   "metadata": {},
   "source": [
    "<div class=\"alert alert-block alert-danger\">\n",
    "<b>Comentario del revisor (1era Iteracion)</b> <a class=“tocSkip”></a>\n",
    "\n",
    "Buen trabajo buscando los valores ausentes, pero, el enunciado en esta parte nos indica que debemos buscar para las ordenes que fueron la primera de cada usuario, es decir, las que tienen cómo `order_number` el valor de 1.\n",
    "</div>"
   ]
  },
  {
   "cell_type": "code",
   "execution_count": 37,
   "id": "6b6204f9",
   "metadata": {},
   "outputs": [],
   "source": [
    "#Aclarado, lo he corregido. Gracias"
   ]
  },
  {
   "cell_type": "markdown",
   "id": "eef189b2",
   "metadata": {},
   "source": [
    "<div class=\"alert alert-block alert-success\">\n",
    "<b>Comentario del revisor (2da Iteracion)</b> <a class=“tocSkip”></a>\n",
    "\n",
    "Buen trabajo con tu corrección\n",
    "</div>"
   ]
  },
  {
   "cell_type": "markdown",
   "id": "4e23d089",
   "metadata": {
    "id": "4e23d089"
   },
   "source": [
    "Nos encontramos con que los valores ausentes se encuentran en los días desde que hizo la primer compra, al ser realizado el pedido por primera vez es lógico que no exista un día antes que la primera compra. Si aplicamos ahora un filtro para excluir a las primeras compras de los usuarios, nos encontraremos con que ya no hay valores ausentes."
   ]
  },
  {
   "cell_type": "code",
   "execution_count": 38,
   "id": "a9de7e0c",
   "metadata": {},
   "outputs": [
    {
     "name": "stdout",
     "output_type": "stream",
     "text": [
      "order_id                  0\n",
      "user_id                   0\n",
      "order_number              0\n",
      "order_dow                 0\n",
      "order_hour_of_day         0\n",
      "days_since_prior_order    0\n",
      "dtype: int64\n"
     ]
    }
   ],
   "source": [
    "### Adicional, sustituir valores ausentes por 0\n",
    "orders['days_since_prior_order']=orders['days_since_prior_order'].fillna(0)\n",
    "print(orders.isna().sum())"
   ]
  },
  {
   "cell_type": "markdown",
   "id": "69dc9ca4",
   "metadata": {
    "id": "69dc9ca4"
   },
   "source": [
    "### `order_products` data frame"
   ]
  },
  {
   "cell_type": "code",
   "execution_count": 39,
   "id": "b8240253",
   "metadata": {
    "id": "b8240253"
   },
   "outputs": [
    {
     "data": {
      "text/plain": [
       "order_id               0\n",
       "product_id             0\n",
       "add_to_cart_order    836\n",
       "reordered              0\n",
       "dtype: int64"
      ]
     },
     "execution_count": 39,
     "metadata": {},
     "output_type": "execute_result"
    }
   ],
   "source": [
    "# Encuentra los valores ausentes\n",
    "#los datos de order_products se encuentran en departments (?)\n",
    "order_products.isnull().sum()"
   ]
  },
  {
   "cell_type": "code",
   "execution_count": 40,
   "id": "9a78e5ee",
   "metadata": {
    "id": "9a78e5ee"
   },
   "outputs": [
    {
     "name": "stdout",
     "output_type": "stream",
     "text": [
      "64.0\n",
      "1.0\n"
     ]
    }
   ],
   "source": [
    "# ¿Cuáles son los valores mínimos y máximos en esta columna?\n",
    "print(order_products['add_to_cart_order'].max())\n",
    "print(order_products['add_to_cart_order'].min())"
   ]
  },
  {
   "cell_type": "markdown",
   "id": "a2bad49e",
   "metadata": {},
   "source": [
    "<div class=\"alert alert-block alert-success\">\n",
    "<b>Comentario del revisor (1era Iteracion)</b> <a class=“tocSkip”></a>\n",
    "\n",
    "Muy buen trabajo buscando el valor máximo y mínimo!\n",
    "</div>"
   ]
  },
  {
   "cell_type": "markdown",
   "id": "-Z2Ja215jW78",
   "metadata": {
    "id": "-Z2Ja215jW78"
   },
   "source": [
    "Los valores ausentes se encuentran en la columna add_to_cart_order"
   ]
  },
  {
   "cell_type": "code",
   "execution_count": 41,
   "id": "ab9d0c2b",
   "metadata": {
    "id": "ab9d0c2b",
    "scrolled": true
   },
   "outputs": [
    {
     "name": "stdout",
     "output_type": "stream",
     "text": [
      "       order_id  product_id  add_to_cart_order  reordered\n",
      "737     2449164        5068                NaN          0\n",
      "9926    1968313       43867                NaN          0\n",
      "14394   2926893       11688                NaN          0\n",
      "16418   1717990        4142                NaN          0\n",
      "30114   1959075       42828                NaN          1\n"
     ]
    }
   ],
   "source": [
    "# Guarda todas las IDs de pedidos que tengan un valor ausente en 'add_to_cart_order'\n",
    "#filtramos los valores ausentes de la columna y los guardamos en una nueva variables.\n",
    "id_add_null = order_products[order_products['add_to_cart_order'].isnull()]\n",
    "print(id_add_null.head())"
   ]
  },
  {
   "cell_type": "code",
   "execution_count": 42,
   "id": "54c31695",
   "metadata": {
    "id": "54c31695"
   },
   "outputs": [
    {
     "name": "stdout",
     "output_type": "stream",
     "text": [
      "order_id\n",
      "9310        1\n",
      "61355      63\n",
      "102236     31\n",
      "129627      5\n",
      "165801      6\n",
      "           ..\n",
      "2999801     6\n",
      "3125735    22\n",
      "3308010    51\n",
      "3347453     7\n",
      "3383594     5\n",
      "Name: product_id, Length: 70, dtype: int64\n"
     ]
    }
   ],
   "source": [
    "# ¿Todos los pedidos con valores ausentes tienen más de 64 productos? #El valor máximo es 64, así que no sería posible.\n",
    "# Agrupa todos los pedidos con datos ausentes por su ID de pedido.\n",
    "grp = id_add_null.groupby(['order_id'])\n",
    "# Cuenta el número de 'product_id' en cada pedido y revisa el valor mínimo del conteo.\n",
    "print(grp['product_id'].count())"
   ]
  },
  {
   "cell_type": "markdown",
   "id": "p9V6pddtjglj",
   "metadata": {
    "id": "p9V6pddtjglj"
   },
   "source": [
    "Los datos ausentes se presentan en add_to_cart, se dedujo que tendría que ver con las cantidades de productos pero aparentemente no hay relación, ya que algunas de las ordenes no repiten productos en la orden al contarse por el metodo groupby.\n"
   ]
  },
  {
   "cell_type": "code",
   "execution_count": 43,
   "id": "7a987d08",
   "metadata": {
    "id": "7a987d08"
   },
   "outputs": [
    {
     "data": {
      "text/plain": [
       "order_id             0\n",
       "product_id           0\n",
       "add_to_cart_order    0\n",
       "reordered            0\n",
       "dtype: int64"
      ]
     },
     "execution_count": 43,
     "metadata": {},
     "output_type": "execute_result"
    }
   ],
   "source": [
    "# Remplaza los valores ausentes en la columna 'add_to_cart' con 999 y convierte la columna al tipo entero.\n",
    "#reemplazamos valores ausentes\n",
    "order_products['add_to_cart_order']= order_products['add_to_cart_order'].fillna(999)\n",
    "#convertimos a enteros\n",
    "order_products['add_to_cart_order'] = order_products['add_to_cart_order'].astype(int)\n",
    "#comprobamos los cambios\n",
    "order_products.isnull().sum()\n",
    "\n"
   ]
  },
  {
   "cell_type": "markdown",
   "id": "fea4bcc7",
   "metadata": {
    "id": "fea4bcc7"
   },
   "source": [
    "Al sustituir los valores ausentes con 999, nos encontramos con todos los valores completos."
   ]
  },
  {
   "cell_type": "markdown",
   "id": "4da7f421",
   "metadata": {},
   "source": [
    "<div class=\"alert alert-block alert-success\">\n",
    "<b>Comentario del revisor (1era Iteracion)</b> <a class=“tocSkip”></a>\n",
    "\n",
    "Bien hecho! Has reemplazado los valores ausentes en la columna correcta\n",
    "</div>"
   ]
  },
  {
   "cell_type": "markdown",
   "id": "RnplPFY1gSrb",
   "metadata": {
    "id": "RnplPFY1gSrb"
   },
   "source": [
    "## Conclusiones\n",
    "\n",
    "Se requiere verificar los datos, su orden y el acomodo antes de iniciar un análisis. Para eso es importante verificar si hay datos ausentes, que características comparten los mismos, y la manera en la que se deben tratar, ya sea eliminarlos o sustituirlos. Lo mismo aplica para los datos duplicados.\n"
   ]
  },
  {
   "cell_type": "markdown",
   "id": "UjrOIwTcz3ri",
   "metadata": {
    "id": "UjrOIwTcz3ri"
   },
   "source": [
    "# Paso 3. Análisis de los datos\n",
    "\n",
    "Una vez los datos estén procesados y listos, haz el siguiente análisis:"
   ]
  },
  {
   "cell_type": "markdown",
   "id": "turkish-kidney",
   "metadata": {
    "id": "turkish-kidney"
   },
   "source": [
    "# [A] Fácil (deben completarse todos para aprobar)\n",
    "\n",
    "1. Verifica que los valores en las columnas `'order_hour_of_day'` y `'order_dow'` en la tabla orders sean razonables (es decir, `'order_hour_of_day'` oscile entre 0 y 23 y `'order_dow'` oscile entre 0 y 6).\n",
    "2. Crea un gráfico que muestre el número de personas que hacen pedidos dependiendo de la hora del día.\n",
    "3. Crea un gráfico que muestre qué día de la semana la gente hace sus compras.\n",
    "4. Crea un gráfico que muestre el tiempo que la gente espera hasta hacer su siguiente pedido, y comenta sobre los valores mínimos y máximos."
   ]
  },
  {
   "cell_type": "markdown",
   "id": "short-capability",
   "metadata": {
    "id": "short-capability"
   },
   "source": [
    "### [A1] Verifica que los valores sean sensibles"
   ]
  },
  {
   "cell_type": "code",
   "execution_count": 44,
   "id": "growing-fruit",
   "metadata": {
    "id": "growing-fruit"
   },
   "outputs": [
    {
     "data": {
      "text/plain": [
       "count    478952.000000\n",
       "mean         13.447034\n",
       "std           4.224567\n",
       "min           0.000000\n",
       "25%          10.000000\n",
       "50%          13.000000\n",
       "75%          16.000000\n",
       "max          23.000000\n",
       "Name: order_hour_of_day, dtype: float64"
      ]
     },
     "execution_count": 44,
     "metadata": {},
     "output_type": "execute_result"
    }
   ],
   "source": [
    "#utilizaremos la función describe para conocer el mínimo y máximo de order_hour_of_day\n",
    "orders['order_hour_of_day'].describe()"
   ]
  },
  {
   "cell_type": "code",
   "execution_count": 45,
   "id": "accessory-malaysia",
   "metadata": {
    "id": "accessory-malaysia"
   },
   "outputs": [
    {
     "data": {
      "text/plain": [
       "count    478952.000000\n",
       "mean          2.775051\n",
       "std           2.045901\n",
       "min           0.000000\n",
       "25%           1.000000\n",
       "50%           3.000000\n",
       "75%           5.000000\n",
       "max           6.000000\n",
       "Name: order_dow, dtype: float64"
      ]
     },
     "execution_count": 45,
     "metadata": {},
     "output_type": "execute_result"
    }
   ],
   "source": [
    "orders['order_dow'].describe()"
   ]
  },
  {
   "cell_type": "markdown",
   "id": "hmR2GNQ6lCsX",
   "metadata": {
    "id": "hmR2GNQ6lCsX"
   },
   "source": [
    "Los valores mínimos y máximos de horas del día y día de pedido son 0 a 23 y 0 a 6 respectivamente."
   ]
  },
  {
   "cell_type": "markdown",
   "id": "fc0eb3e5",
   "metadata": {},
   "source": [
    "<div class=\"alert alert-block alert-success\">\n",
    "<b>Comentario del revisor (1era Iteracion)</b> <a class=“tocSkip”></a>\n",
    "\n",
    "Buen trabajo! Otra forma con la que podrías determinar es aplicando `.unique()` y te devolverá una lista de los valores únicos en esa columna\n",
    "</div>"
   ]
  },
  {
   "cell_type": "markdown",
   "id": "a6743a70",
   "metadata": {
    "id": "a6743a70"
   },
   "source": [
    "### [A2] Para cada hora del día, ¿cuántas personas hacen órdenes?"
   ]
  },
  {
   "cell_type": "code",
   "execution_count": 46,
   "id": "a36cca27",
   "metadata": {
    "id": "a36cca27",
    "scrolled": true
   },
   "outputs": [
    {
     "data": {
      "image/png": "[encoded data removed]",
      "text/plain": [
       "<Figure size 432x288 with 1 Axes>"
      ]
     },
     "metadata": {
      "needs_background": "light"
     },
     "output_type": "display_data"
    }
   ],
   "source": [
    "#agruparemos por la frecuencia de pedidos de los clientes en cada hora del día \n",
    "order_per_hour= orders.groupby('order_hour_of_day')['user_id'].nunique()\n",
    "#Haremos un grafico de barras para visualizar\n",
    "order_per_hour.plot(x='order_hour_of_day', y='user_id', kind='bar', xlabel='Hora del día', ylabel='número de clientes', title= 'Pedidos de clientes en cada hora del día')\n",
    "plt.show()"
   ]
  },
  {
   "cell_type": "markdown",
   "id": "11270eed",
   "metadata": {
    "id": "11270eed"
   },
   "source": [
    "Entre 8am y 7pm es cuando más pedidos realizan los clientes."
   ]
  },
  {
   "cell_type": "markdown",
   "id": "f558f020",
   "metadata": {},
   "source": [
    "<div class=\"alert alert-block alert-success\">\n",
    "<b>Comentario del revisor (1era Iteracion)</b> <a class=“tocSkip”></a>\n",
    "\n",
    "Muy bien hecho y con una conclusión acertada!\n",
    "</div>"
   ]
  },
  {
   "cell_type": "markdown",
   "id": "documented-command",
   "metadata": {
    "id": "documented-command"
   },
   "source": [
    "### [A3] ¿Qué día de la semana compran víveres las personas?"
   ]
  },
  {
   "cell_type": "code",
   "execution_count": 47,
   "id": "chief-digit",
   "metadata": {
    "id": "chief-digit",
    "scrolled": true
   },
   "outputs": [
    {
     "data": {
      "image/png": "[encoded data removed]",
      "text/plain": [
       "<Figure size 432x288 with 1 Axes>"
      ]
     },
     "metadata": {
      "needs_background": "light"
     },
     "output_type": "display_data"
    }
   ],
   "source": [
    "#agrupamos los datos de la misma manera que el segmento anterior, pero ahora con los días de la semana\n",
    "order_per_day= orders.groupby('order_dow')['user_id'].nunique()\n",
    "order_per_day.plot(x='order_dow', y='user_id', kind='bar', xlabel='Día de la semana', ylabel='número de clientes', title='Pedidos de clientes por día de la semana')\n",
    "plt.show()"
   ]
  },
  {
   "cell_type": "markdown",
   "id": "dominant-lightning",
   "metadata": {
    "id": "dominant-lightning"
   },
   "source": [
    "Entre domingos y lunes se registran más pedidos de las personas."
   ]
  },
  {
   "cell_type": "markdown",
   "id": "ad3889e9",
   "metadata": {},
   "source": [
    "<div class=\"alert alert-block alert-success\">\n",
    "<b>Comentario del revisor (1era Iteracion)</b> <a class=“tocSkip”></a>\n",
    "\n",
    "Muy bien hecho! Para próximos proyectos te recomendaría aumentar un poco el tamaño de tus visualizaciones para que sea más fácil distinguir lo que hay en ellas\n",
    "</div>"
   ]
  },
  {
   "cell_type": "markdown",
   "id": "cutting-concert",
   "metadata": {
    "id": "cutting-concert"
   },
   "source": [
    "### [A4] ¿Cuánto tiempo esperan las personas hasta hacer otro pedido? Comenta sobre los valores mínimos y máximos."
   ]
  },
  {
   "cell_type": "code",
   "execution_count": 50,
   "id": "c231f523",
   "metadata": {
    "id": "c231f523"
   },
   "outputs": [
    {
     "data": {
      "image/png": "[encoded data removed]",
      "text/plain": [
       "<Figure size 432x288 with 1 Axes>"
      ]
     },
     "metadata": {
      "needs_background": "light"
     },
     "output_type": "display_data"
    }
   ],
   "source": [
    "# Filtrar los datos para excluir valores mayores a 30\n",
    "filtered_orders = orders[orders['days_since_prior_order'] < 30]\n",
    "\n",
    "# Agrupar por 'days_since_prior_order' y contar usuarios únicos. Con esto obtienes cuanto a pasado cada usuario desde su última compra, y lo agrupas por numero de dias.\n",
    "time_next_buy = filtered_orders.groupby('days_since_prior_order')['user_id'].nunique()\n",
    "\n",
    "# Crear el gráfico de barras\n",
    "time_next_buy.plot(kind='bar',\n",
    "    xlabel='Días de espera para el siguiente pedido',\n",
    "    ylabel='Número de clientes',\n",
    "    title='Días que esperan los clientes para realizar el siguiente pedido')\n",
    "\n",
    "# Mostrar el gráfico\n",
    "plt.show()\n"
   ]
  },
  {
   "cell_type": "markdown",
   "id": "discrete-vertex",
   "metadata": {
    "id": "discrete-vertex"
   },
   "source": [
    "Las personas suelen hacer su siguiente compra en los primeros días siguientes de su primera compra, habiendo una alza a los 30 días. Ignoraremos las compras realizadas en el día 0 ya que esas representan la primera compra realizada."
   ]
  },
  {
   "cell_type": "markdown",
   "id": "f7bf29ab",
   "metadata": {},
   "source": [
    "<div class=\"alert alert-block alert-warning\">\n",
    "<b>Comentario del revisor (1era Iteracion)</b> <a class=“tocSkip”></a>\n",
    "\n",
    "Muy bien hecho y con una conclusión acertada! ¿Crees que los valores en los 30 días son normales? Esto podría tratarse de un error ya que se ve una tendencia hacia abajo y de pronto tiene un pico super alto, te recomendaría eliminar esa barra de la visualización.\n",
    "</div>"
   ]
  },
  {
   "cell_type": "code",
   "execution_count": 39,
   "id": "4fd4920a",
   "metadata": {},
   "outputs": [],
   "source": [
    "#Listo, he eliminado esos valores"
   ]
  },
  {
   "cell_type": "markdown",
   "id": "tight-staff",
   "metadata": {
    "id": "tight-staff"
   },
   "source": [
    "# [B] Intermedio (deben completarse todos para aprobar)\n",
    "\n",
    "1. ¿Existe alguna diferencia entre las distribuciones `'order_hour_of_day'` de los miércoles y los sábados? Traza gráficos de barra de `'order_hour_of_day'` para ambos días en la misma figura y describe las diferencias que observes.\n",
    "2. Grafica la distribución para el número de órdenes que hacen los clientes (es decir, cuántos clientes hicieron solo 1 pedido, cuántos hicieron 2, cuántos 3, y así sucesivamente...).\n",
    "3. ¿Cuáles son los 20 principales productos que se piden con más frecuencia (muestra su identificación y nombre)?"
   ]
  },
  {
   "cell_type": "markdown",
   "id": "packed-classic",
   "metadata": {
    "id": "packed-classic"
   },
   "source": [
    "### [B1] Diferencia entre miércoles y sábados para  `'order_hour_of_day'`. Traza gráficos de barra para los dos días y describe las diferencias que veas."
   ]
  },
  {
   "cell_type": "code",
   "execution_count": 100,
   "id": "d89b8403",
   "metadata": {
    "id": "d89b8403",
    "scrolled": true
   },
   "outputs": [
    {
     "data": {
      "text/html": [
       "<div>\n",
       "<style scoped>\n",
       "    .dataframe tbody tr th:only-of-type {\n",
       "        vertical-align: middle;\n",
       "    }\n",
       "\n",
       "    .dataframe tbody tr th {\n",
       "        vertical-align: top;\n",
       "    }\n",
       "\n",
       "    .dataframe thead th {\n",
       "        text-align: right;\n",
       "    }\n",
       "</style>\n",
       "<table border=\"1\" class=\"dataframe\">\n",
       "  <thead>\n",
       "    <tr style=\"text-align: right;\">\n",
       "      <th>order_dow</th>\n",
       "      <th>3</th>\n",
       "      <th>6</th>\n",
       "    </tr>\n",
       "    <tr>\n",
       "      <th>order_hour_of_day</th>\n",
       "      <th></th>\n",
       "      <th></th>\n",
       "    </tr>\n",
       "  </thead>\n",
       "  <tbody>\n",
       "    <tr>\n",
       "      <th>0</th>\n",
       "      <td>373</td>\n",
       "      <td>464</td>\n",
       "    </tr>\n",
       "    <tr>\n",
       "      <th>1</th>\n",
       "      <td>215</td>\n",
       "      <td>254</td>\n",
       "    </tr>\n",
       "    <tr>\n",
       "      <th>2</th>\n",
       "      <td>106</td>\n",
       "      <td>177</td>\n",
       "    </tr>\n",
       "    <tr>\n",
       "      <th>3</th>\n",
       "      <td>101</td>\n",
       "      <td>125</td>\n",
       "    </tr>\n",
       "    <tr>\n",
       "      <th>4</th>\n",
       "      <td>108</td>\n",
       "      <td>118</td>\n",
       "    </tr>\n",
       "    <tr>\n",
       "      <th>5</th>\n",
       "      <td>170</td>\n",
       "      <td>161</td>\n",
       "    </tr>\n",
       "    <tr>\n",
       "      <th>6</th>\n",
       "      <td>643</td>\n",
       "      <td>451</td>\n",
       "    </tr>\n",
       "    <tr>\n",
       "      <th>7</th>\n",
       "      <td>1732</td>\n",
       "      <td>1619</td>\n",
       "    </tr>\n",
       "    <tr>\n",
       "      <th>8</th>\n",
       "      <td>3125</td>\n",
       "      <td>3246</td>\n",
       "    </tr>\n",
       "    <tr>\n",
       "      <th>9</th>\n",
       "      <td>4490</td>\n",
       "      <td>4311</td>\n",
       "    </tr>\n",
       "    <tr>\n",
       "      <th>10</th>\n",
       "      <td>5026</td>\n",
       "      <td>4919</td>\n",
       "    </tr>\n",
       "    <tr>\n",
       "      <th>11</th>\n",
       "      <td>5004</td>\n",
       "      <td>5116</td>\n",
       "    </tr>\n",
       "    <tr>\n",
       "      <th>12</th>\n",
       "      <td>4688</td>\n",
       "      <td>5132</td>\n",
       "    </tr>\n",
       "    <tr>\n",
       "      <th>13</th>\n",
       "      <td>4674</td>\n",
       "      <td>5323</td>\n",
       "    </tr>\n",
       "    <tr>\n",
       "      <th>14</th>\n",
       "      <td>4774</td>\n",
       "      <td>5375</td>\n",
       "    </tr>\n",
       "    <tr>\n",
       "      <th>15</th>\n",
       "      <td>5163</td>\n",
       "      <td>5188</td>\n",
       "    </tr>\n",
       "    <tr>\n",
       "      <th>16</th>\n",
       "      <td>4976</td>\n",
       "      <td>5029</td>\n",
       "    </tr>\n",
       "    <tr>\n",
       "      <th>17</th>\n",
       "      <td>4175</td>\n",
       "      <td>4295</td>\n",
       "    </tr>\n",
       "    <tr>\n",
       "      <th>18</th>\n",
       "      <td>3463</td>\n",
       "      <td>3338</td>\n",
       "    </tr>\n",
       "    <tr>\n",
       "      <th>19</th>\n",
       "      <td>2652</td>\n",
       "      <td>2610</td>\n",
       "    </tr>\n",
       "    <tr>\n",
       "      <th>20</th>\n",
       "      <td>1917</td>\n",
       "      <td>1847</td>\n",
       "    </tr>\n",
       "    <tr>\n",
       "      <th>21</th>\n",
       "      <td>1450</td>\n",
       "      <td>1473</td>\n",
       "    </tr>\n",
       "    <tr>\n",
       "      <th>22</th>\n",
       "      <td>1154</td>\n",
       "      <td>1185</td>\n",
       "    </tr>\n",
       "    <tr>\n",
       "      <th>23</th>\n",
       "      <td>718</td>\n",
       "      <td>893</td>\n",
       "    </tr>\n",
       "  </tbody>\n",
       "</table>\n",
       "</div>"
      ],
      "text/plain": [
       "order_dow             3     6\n",
       "order_hour_of_day            \n",
       "0                   373   464\n",
       "1                   215   254\n",
       "2                   106   177\n",
       "3                   101   125\n",
       "4                   108   118\n",
       "5                   170   161\n",
       "6                   643   451\n",
       "7                  1732  1619\n",
       "8                  3125  3246\n",
       "9                  4490  4311\n",
       "10                 5026  4919\n",
       "11                 5004  5116\n",
       "12                 4688  5132\n",
       "13                 4674  5323\n",
       "14                 4774  5375\n",
       "15                 5163  5188\n",
       "16                 4976  5029\n",
       "17                 4175  4295\n",
       "18                 3463  3338\n",
       "19                 2652  2610\n",
       "20                 1917  1847\n",
       "21                 1450  1473\n",
       "22                 1154  1185\n",
       "23                  718   893"
      ]
     },
     "execution_count": 100,
     "metadata": {},
     "output_type": "execute_result"
    }
   ],
   "source": [
    "#creamos una tabla para visualizar los datos que queremos graficar.\n",
    "orders.pivot_table(index='order_hour_of_day', columns='order_dow', values='order_id', aggfunc='count')[[3,6]]\n",
    "\n"
   ]
  },
  {
   "cell_type": "code",
   "execution_count": 101,
   "id": "94e54e8a",
   "metadata": {
    "id": "94e54e8a"
   },
   "outputs": [],
   "source": [
    "#El comportamiento es similar en ambos días, sin embargo hay mayor cantidad de compras los miércoles entre 6am y 10am, \n",
    "#mientras que los sábados hay más compras a partir de las 11am hasta las 3am."
   ]
  },
  {
   "cell_type": "code",
   "execution_count": 102,
   "id": "6582aacb",
   "metadata": {},
   "outputs": [
    {
     "data": {
      "image/png": "[encoded data removed]",
      "text/plain": [
       "<Figure size 432x288 with 1 Axes>"
      ]
     },
     "metadata": {
      "needs_background": "light"
     },
     "output_type": "display_data"
    }
   ],
   "source": [
    "orders.pivot_table(index='order_hour_of_day', columns='order_dow', values='order_id', aggfunc='count')[[3,6]].plot(kind='bar', xlabel='Hora del día que se realizó la orden', title='Pedidos miércoles vs sábados')\n",
    "plt.legend(['miércoles','sábado'])\n",
    "plt.show()"
   ]
  },
  {
   "cell_type": "code",
   "execution_count": null,
   "id": "797c90a8",
   "metadata": {
    "id": "797c90a8",
    "scrolled": true
   },
   "outputs": [],
   "source": []
  },
  {
   "cell_type": "markdown",
   "id": "charitable-congo",
   "metadata": {
    "id": "charitable-congo"
   },
   "source": [
    "La actividad de compra de los clientes es muy similar entre los miércoles y sábados, los clientes suelen hacer entre 1 y 5 compras mayormente, el número de clientes que hacen más pedidos disminuyen. Y los productos más vendidos son los orgánicos, principalmente las frutas y verduras."
   ]
  },
  {
   "cell_type": "markdown",
   "id": "69579464",
   "metadata": {},
   "source": [
    "<div class=\"alert alert-block alert-success\">\n",
    "<b>Comentario del revisor (1era Iteracion)</b> <a class=“tocSkip”></a>\n",
    "\n",
    "Muy buen trabajo con la visualización y conclusión!\n",
    "</div>"
   ]
  },
  {
   "cell_type": "markdown",
   "id": "e3891143",
   "metadata": {
    "id": "e3891143"
   },
   "source": [
    "### [B2] ¿Cuál es la distribución para el número de pedidos por cliente?"
   ]
  },
  {
   "cell_type": "code",
   "execution_count": 103,
   "id": "d8c26c23",
   "metadata": {
    "id": "d8c26c23",
    "scrolled": true
   },
   "outputs": [
    {
     "data": {
      "text/html": [
       "<div>\n",
       "<style scoped>\n",
       "    .dataframe tbody tr th:only-of-type {\n",
       "        vertical-align: middle;\n",
       "    }\n",
       "\n",
       "    .dataframe tbody tr th {\n",
       "        vertical-align: top;\n",
       "    }\n",
       "\n",
       "    .dataframe thead th {\n",
       "        text-align: right;\n",
       "    }\n",
       "</style>\n",
       "<table border=\"1\" class=\"dataframe\">\n",
       "  <thead>\n",
       "    <tr style=\"text-align: right;\">\n",
       "      <th></th>\n",
       "      <th>order_id</th>\n",
       "      <th>user_id</th>\n",
       "      <th>order_number</th>\n",
       "      <th>order_dow</th>\n",
       "      <th>order_hour_of_day</th>\n",
       "      <th>days_since_prior_order</th>\n",
       "    </tr>\n",
       "  </thead>\n",
       "  <tbody>\n",
       "    <tr>\n",
       "      <th>count</th>\n",
       "      <td>4.789520e+05</td>\n",
       "      <td>478952.000000</td>\n",
       "      <td>478952.000000</td>\n",
       "      <td>478952.000000</td>\n",
       "      <td>478952.000000</td>\n",
       "      <td>478952.000000</td>\n",
       "    </tr>\n",
       "    <tr>\n",
       "      <th>mean</th>\n",
       "      <td>1.709953e+06</td>\n",
       "      <td>102966.654911</td>\n",
       "      <td>17.157563</td>\n",
       "      <td>2.775051</td>\n",
       "      <td>13.447034</td>\n",
       "      <td>10.433853</td>\n",
       "    </tr>\n",
       "    <tr>\n",
       "      <th>std</th>\n",
       "      <td>9.869537e+05</td>\n",
       "      <td>59525.292863</td>\n",
       "      <td>17.704457</td>\n",
       "      <td>2.045901</td>\n",
       "      <td>4.224567</td>\n",
       "      <td>9.292153</td>\n",
       "    </tr>\n",
       "    <tr>\n",
       "      <th>min</th>\n",
       "      <td>4.000000e+00</td>\n",
       "      <td>2.000000</td>\n",
       "      <td>1.000000</td>\n",
       "      <td>0.000000</td>\n",
       "      <td>0.000000</td>\n",
       "      <td>0.000000</td>\n",
       "    </tr>\n",
       "    <tr>\n",
       "      <th>25%</th>\n",
       "      <td>8.564698e+05</td>\n",
       "      <td>51413.750000</td>\n",
       "      <td>5.000000</td>\n",
       "      <td>1.000000</td>\n",
       "      <td>10.000000</td>\n",
       "      <td>4.000000</td>\n",
       "    </tr>\n",
       "    <tr>\n",
       "      <th>50%</th>\n",
       "      <td>1.709521e+06</td>\n",
       "      <td>102633.000000</td>\n",
       "      <td>11.000000</td>\n",
       "      <td>3.000000</td>\n",
       "      <td>13.000000</td>\n",
       "      <td>7.000000</td>\n",
       "    </tr>\n",
       "    <tr>\n",
       "      <th>75%</th>\n",
       "      <td>2.563002e+06</td>\n",
       "      <td>154419.000000</td>\n",
       "      <td>23.000000</td>\n",
       "      <td>5.000000</td>\n",
       "      <td>16.000000</td>\n",
       "      <td>15.000000</td>\n",
       "    </tr>\n",
       "    <tr>\n",
       "      <th>max</th>\n",
       "      <td>3.421079e+06</td>\n",
       "      <td>206209.000000</td>\n",
       "      <td>100.000000</td>\n",
       "      <td>6.000000</td>\n",
       "      <td>23.000000</td>\n",
       "      <td>30.000000</td>\n",
       "    </tr>\n",
       "  </tbody>\n",
       "</table>\n",
       "</div>"
      ],
      "text/plain": [
       "           order_id        user_id   order_number      order_dow  \\\n",
       "count  4.789520e+05  478952.000000  478952.000000  478952.000000   \n",
       "mean   1.709953e+06  102966.654911      17.157563       2.775051   \n",
       "std    9.869537e+05   59525.292863      17.704457       2.045901   \n",
       "min    4.000000e+00       2.000000       1.000000       0.000000   \n",
       "25%    8.564698e+05   51413.750000       5.000000       1.000000   \n",
       "50%    1.709521e+06  102633.000000      11.000000       3.000000   \n",
       "75%    2.563002e+06  154419.000000      23.000000       5.000000   \n",
       "max    3.421079e+06  206209.000000     100.000000       6.000000   \n",
       "\n",
       "       order_hour_of_day  days_since_prior_order  \n",
       "count      478952.000000           478952.000000  \n",
       "mean           13.447034               10.433853  \n",
       "std             4.224567                9.292153  \n",
       "min             0.000000                0.000000  \n",
       "25%            10.000000                4.000000  \n",
       "50%            13.000000                7.000000  \n",
       "75%            16.000000               15.000000  \n",
       "max            23.000000               30.000000  "
      ]
     },
     "execution_count": 103,
     "metadata": {},
     "output_type": "execute_result"
    }
   ],
   "source": [
    "#Primero revisaremos los valores máximos y mínimos de nuestros datos\n",
    "orders.describe()"
   ]
  },
  {
   "cell_type": "code",
   "execution_count": 104,
   "id": "a946fd57",
   "metadata": {
    "id": "35bcea30"
   },
   "outputs": [
    {
     "data": {
      "text/html": [
       "<div>\n",
       "<style scoped>\n",
       "    .dataframe tbody tr th:only-of-type {\n",
       "        vertical-align: middle;\n",
       "    }\n",
       "\n",
       "    .dataframe tbody tr th {\n",
       "        vertical-align: top;\n",
       "    }\n",
       "\n",
       "    .dataframe thead th {\n",
       "        text-align: right;\n",
       "    }\n",
       "</style>\n",
       "<table border=\"1\" class=\"dataframe\">\n",
       "  <thead>\n",
       "    <tr style=\"text-align: right;\">\n",
       "      <th></th>\n",
       "      <th>user_id</th>\n",
       "    </tr>\n",
       "    <tr>\n",
       "      <th>order_number</th>\n",
       "      <th></th>\n",
       "    </tr>\n",
       "  </thead>\n",
       "  <tbody>\n",
       "    <tr>\n",
       "      <th>1</th>\n",
       "      <td>28817</td>\n",
       "    </tr>\n",
       "    <tr>\n",
       "      <th>2</th>\n",
       "      <td>28633</td>\n",
       "    </tr>\n",
       "    <tr>\n",
       "      <th>3</th>\n",
       "      <td>28685</td>\n",
       "    </tr>\n",
       "    <tr>\n",
       "      <th>4</th>\n",
       "      <td>28703</td>\n",
       "    </tr>\n",
       "    <tr>\n",
       "      <th>5</th>\n",
       "      <td>25661</td>\n",
       "    </tr>\n",
       "    <tr>\n",
       "      <th>6</th>\n",
       "      <td>22821</td>\n",
       "    </tr>\n",
       "    <tr>\n",
       "      <th>7</th>\n",
       "      <td>20586</td>\n",
       "    </tr>\n",
       "    <tr>\n",
       "      <th>8</th>\n",
       "      <td>18556</td>\n",
       "    </tr>\n",
       "    <tr>\n",
       "      <th>9</th>\n",
       "      <td>16905</td>\n",
       "    </tr>\n",
       "    <tr>\n",
       "      <th>10</th>\n",
       "      <td>15524</td>\n",
       "    </tr>\n",
       "  </tbody>\n",
       "</table>\n",
       "</div>"
      ],
      "text/plain": [
       "              user_id\n",
       "order_number         \n",
       "1               28817\n",
       "2               28633\n",
       "3               28685\n",
       "4               28703\n",
       "5               25661\n",
       "6               22821\n",
       "7               20586\n",
       "8               18556\n",
       "9               16905\n",
       "10              15524"
      ]
     },
     "execution_count": 104,
     "metadata": {},
     "output_type": "execute_result"
    }
   ],
   "source": [
    "#Creamos una tabla para verificar la frecuencia con la que se realiza cierta cantidad de pedidos.\n",
    "order_per_client= orders.groupby('order_number')['user_id'].nunique()\n",
    "orders.pivot_table(index='order_number', values='user_id', aggfunc='count').head(10)"
   ]
  },
  {
   "cell_type": "code",
   "execution_count": 105,
   "id": "00e69a66",
   "metadata": {
    "id": "00e69a66",
    "scrolled": false
   },
   "outputs": [
    {
     "data": {
      "text/plain": [
       "<AxesSubplot:xlabel='número de ordenes', ylabel='número de clientes'>"
      ]
     },
     "execution_count": 105,
     "metadata": {},
     "output_type": "execute_result"
    },
    {
     "data": {
      "image/png": "[encoded data removed]",
      "text/plain": [
       "<Figure size 432x288 with 1 Axes>"
      ]
     },
     "metadata": {
      "needs_background": "light"
     },
     "output_type": "display_data"
    }
   ],
   "source": [
    "#Numero de ordenes por cada cliente\n",
    "\n",
    "order_per_client.plot(x='order_number', y='user_id', xlabel='número de ordenes', ylabel='número de clientes', grid=10, rot=90)"
   ]
  },
  {
   "cell_type": "markdown",
   "id": "d2eff7d5",
   "metadata": {
    "id": "d2eff7d5"
   },
   "source": [
    "Hay un descenso entre el número de clientes que hacen más ordenes conforme sube el número de pedidos. Es decir que la mayoría de clientes hace de 1 a 5 ordenes y los clientes que van ordenando menos tienen un decrecimiento gradual."
   ]
  },
  {
   "cell_type": "markdown",
   "id": "ac42108b",
   "metadata": {},
   "source": [
    "<div class=\"alert alert-block alert-success\">\n",
    "<b>Comentario del revisor (1era Iteracion)</b> <a class=“tocSkip”></a>\n",
    "\n",
    "Muy buen trabajo con la visualización y conclusión!\n",
    "</div>"
   ]
  },
  {
   "cell_type": "markdown",
   "id": "54a0319c",
   "metadata": {
    "id": "54a0319c"
   },
   "source": [
    "### [B3] ¿Cuáles son los 20 productos más populares (muestra su ID y nombre)?"
   ]
  },
  {
   "cell_type": "code",
   "execution_count": 106,
   "id": "exterior-arizona",
   "metadata": {
    "id": "exterior-arizona",
    "scrolled": false
   },
   "outputs": [
    {
     "data": {
      "text/html": [
       "<div>\n",
       "<style scoped>\n",
       "    .dataframe tbody tr th:only-of-type {\n",
       "        vertical-align: middle;\n",
       "    }\n",
       "\n",
       "    .dataframe tbody tr th {\n",
       "        vertical-align: top;\n",
       "    }\n",
       "\n",
       "    .dataframe thead th {\n",
       "        text-align: right;\n",
       "    }\n",
       "</style>\n",
       "<table border=\"1\" class=\"dataframe\">\n",
       "  <thead>\n",
       "    <tr style=\"text-align: right;\">\n",
       "      <th></th>\n",
       "      <th>product_id</th>\n",
       "    </tr>\n",
       "    <tr>\n",
       "      <th>product_name</th>\n",
       "      <th></th>\n",
       "    </tr>\n",
       "  </thead>\n",
       "  <tbody>\n",
       "    <tr>\n",
       "      <th>#2 COFFEE FILTERS</th>\n",
       "      <td>110</td>\n",
       "    </tr>\n",
       "    <tr>\n",
       "      <th>#2 CONE WHITE COFFEE FILTERS</th>\n",
       "      <td>2</td>\n",
       "    </tr>\n",
       "    <tr>\n",
       "      <th>#2 MECHANICAL PENCILS</th>\n",
       "      <td>3</td>\n",
       "    </tr>\n",
       "    <tr>\n",
       "      <th>#4 NATURAL BROWN COFFEE FILTERS</th>\n",
       "      <td>39</td>\n",
       "    </tr>\n",
       "    <tr>\n",
       "      <th>&amp; GO! HAZELNUT SPREAD + PRETZEL STICKS</th>\n",
       "      <td>15</td>\n",
       "    </tr>\n",
       "    <tr>\n",
       "      <th>...</th>\n",
       "      <td>...</td>\n",
       "    </tr>\n",
       "    <tr>\n",
       "      <th>\\\"DARN GOOD\\\" CHILI MIX</th>\n",
       "      <td>5</td>\n",
       "    </tr>\n",
       "    <tr>\n",
       "      <th>\\\"IM PEI-NUT BUTTER\\\" DOUBLE CHOCOLATE COOKIE &amp; PEANUT BUTTER ICE CREAM</th>\n",
       "      <td>20</td>\n",
       "    </tr>\n",
       "    <tr>\n",
       "      <th>\\\"LOUIS BA-KAHN\\\" CHOCOLATE CHIP COOKIE &amp; BROWN BUTTER CANDIED BACON ICE CREAM SANDWICH</th>\n",
       "      <td>2</td>\n",
       "    </tr>\n",
       "    <tr>\n",
       "      <th>\\\"MIES VANILLA ROHE\\\" ICE CREAM BARS</th>\n",
       "      <td>8</td>\n",
       "    </tr>\n",
       "    <tr>\n",
       "      <th>\\\"MOKACCINO\\\" MILK + BLUE BOTTLE COFFEE CHOCOLATE</th>\n",
       "      <td>52</td>\n",
       "    </tr>\n",
       "  </tbody>\n",
       "</table>\n",
       "<p>44518 rows × 1 columns</p>\n",
       "</div>"
      ],
      "text/plain": [
       "                                                    product_id\n",
       "product_name                                                  \n",
       "#2 COFFEE FILTERS                                          110\n",
       "#2 CONE WHITE COFFEE FILTERS                                 2\n",
       "#2 MECHANICAL PENCILS                                        3\n",
       "#4 NATURAL BROWN COFFEE FILTERS                             39\n",
       "& GO! HAZELNUT SPREAD + PRETZEL STICKS                      15\n",
       "...                                                        ...\n",
       "\\\"DARN GOOD\\\" CHILI MIX                                      5\n",
       "\\\"IM PEI-NUT BUTTER\\\" DOUBLE CHOCOLATE COOKIE &...          20\n",
       "\\\"LOUIS BA-KAHN\\\" CHOCOLATE CHIP COOKIE & BROWN...           2\n",
       "\\\"MIES VANILLA ROHE\\\" ICE CREAM BARS                         8\n",
       "\\\"MOKACCINO\\\" MILK + BLUE BOTTLE COFFEE CHOCOLATE           52\n",
       "\n",
       "[44518 rows x 1 columns]"
      ]
     },
     "execution_count": 106,
     "metadata": {},
     "output_type": "execute_result"
    }
   ],
   "source": [
    "#Productos con más frecuencia\n",
    "# Uniremos dos tablas como una nueva, nos interesa compaginar los datos de product_id que se relacionan con order_id de \n",
    "# order_products para saber en cuantos pedidos se solicitó un producto, y los uniremos con products_name de la tabla products\n",
    "# con relación al product_id\n",
    "products_descrip = order_products.merge(products, on='product_id')\n",
    "\n",
    "# mostraremos la tabla pivot para posteriormente graficarla\n",
    "products_descrip.pivot_table(index='product_name', values='product_id', aggfunc='count')"
   ]
  },
  {
   "cell_type": "code",
   "execution_count": 112,
   "id": "universal-facial",
   "metadata": {
    "id": "universal-facial",
    "scrolled": true
   },
   "outputs": [
    {
     "data": {
      "text/plain": [
       "<AxesSubplot:title={'center':'20 productos más vendidos'}, xlabel='Productos', ylabel='número de pedidos'>"
      ]
     },
     "execution_count": 112,
     "metadata": {},
     "output_type": "execute_result"
    },
    {
     "data": {
      "image/png": "[encoded data removed]",
      "text/plain": [
       "<Figure size 432x288 with 1 Axes>"
      ]
     },
     "metadata": {
      "needs_background": "light"
     },
     "output_type": "display_data"
    }
   ],
   "source": [
    "#Graficamos los 20 productos más vendidos\n",
    "#combinaremos las columnas de nombre y id para visualizarlas juntas en la gráfica\n",
    "products_descrip['new_colum'] =  products_descrip['product_id'].astype(str) + ' ' + products_descrip['product_name']\n",
    "products_frecuency = products_descrip.groupby('new_colum').size().sort_values(ascending=False).head(20)\n",
    "products_frecuency.plot(kind='bar', xlabel='Productos', ylabel='número de pedidos', title= '20 productos más vendidos', rot=90)\n"
   ]
  },
  {
   "cell_type": "markdown",
   "id": "41b5af80",
   "metadata": {},
   "source": [
    "<div class=\"alert alert-block alert-danger\">\n",
    "<b>Comentario del revisor (1era Iteracion)</b> <a class=“tocSkip”></a>\n",
    "\n",
    "Muy buen trabajo con la visualización! Estaría bien mostrar el ID de los productos en la gráfica cómo lo sugiere el enunciado\n",
    "</div>"
   ]
  },
  {
   "cell_type": "code",
   "execution_count": 113,
   "id": "b4b6df15",
   "metadata": {},
   "outputs": [],
   "source": [
    "#Corrección hecha, gracias"
   ]
  },
  {
   "cell_type": "markdown",
   "id": "519a9b0e",
   "metadata": {},
   "source": [
    "<div class=\"alert alert-block alert-success\">\n",
    "<b>Comentario del revisor (2da Iteracion)</b> <a class=“tocSkip”></a>\n",
    "\n",
    "Bien hecho! Ahora tienes una gráfica más detallada\n",
    "</div>"
   ]
  },
  {
   "cell_type": "code",
   "execution_count": 50,
   "id": "bbcdd20b",
   "metadata": {
    "id": "bbcdd20b"
   },
   "outputs": [
    {
     "name": "stdout",
     "output_type": "stream",
     "text": [
      "product_name\n",
      "BANANA                      66050\n",
      "BAG OF ORGANIC BANANAS      53297\n",
      "ORGANIC STRAWBERRIES        37039\n",
      "ORGANIC BABY SPINACH        33971\n",
      "ORGANIC HASS AVOCADO        29773\n",
      "ORGANIC AVOCADO             24689\n",
      "LARGE LEMON                 21495\n",
      "STRAWBERRIES                20018\n",
      "LIMES                       19690\n",
      "ORGANIC WHOLE MILK          19600\n",
      "ORGANIC RASPBERRIES         19197\n",
      "ORGANIC YELLOW ONION        15898\n",
      "ORGANIC GARLIC              15292\n",
      "ORGANIC ZUCCHINI            14584\n",
      "ORGANIC BLUEBERRIES         13879\n",
      "CUCUMBER KIRBY              13675\n",
      "ORGANIC FUJI APPLE          12544\n",
      "ORGANIC LEMON               12232\n",
      "APPLE HONEYCRISP ORGANIC    11993\n",
      "ORGANIC GRAPE TOMATOES      11781\n",
      "dtype: int64\n"
     ]
    }
   ],
   "source": [
    "#enlistamos los 20 productos más vendidos\n",
    "print(products_frecuency.head(20))"
   ]
  },
  {
   "cell_type": "markdown",
   "id": "7df00f47",
   "metadata": {
    "id": "7df00f47"
   },
   "source": [
    "Los productos más vendidos son frutas y verduras, en especial aquellas con la etiqueta de orgánicos."
   ]
  },
  {
   "cell_type": "markdown",
   "id": "gross-theme",
   "metadata": {
    "id": "gross-theme"
   },
   "source": [
    "# [C] Difícil (deben completarse todos para aprobar)\n",
    "\n",
    "1. ¿Cuántos artículos suelen comprar las personas en un pedido? ¿Cómo es la distribución?\n",
    "2. ¿Cuáles son los 20 principales artículos que vuelven a pedirse con mayor frecuencia (muestra sus nombres e IDs de los productos)?\n",
    "3. Para cada producto, ¿cuál es la tasa de repetición del pedido (número de repeticiones de pedido/total de pedidos?\n",
    "4. Para cada cliente, ¿qué proporción de los productos que pidió ya los había pedido? Calcula la tasa de repetición de pedido para cada usuario en lugar de para cada producto.\n",
    "5. ¿Cuáles son los 20 principales artículos que la gente pone primero en sus carritos (muestra las IDs de los productos, sus nombres, y el número de veces en que fueron el primer artículo en añadirse al carrito)?"
   ]
  },
  {
   "cell_type": "markdown",
   "id": "romantic-deposit",
   "metadata": {
    "id": "romantic-deposit"
   },
   "source": [
    "### [C1] ¿Cuántos artículos compran normalmente las personas en un pedido? ¿Cómo es la distribución?"
   ]
  },
  {
   "cell_type": "code",
   "execution_count": 51,
   "id": "virtual-punch",
   "metadata": {
    "id": "virtual-punch"
   },
   "outputs": [
    {
     "name": "stdout",
     "output_type": "stream",
     "text": [
      "10.098983215049127\n"
     ]
    }
   ],
   "source": [
    "products_per_order = order_products.groupby('order_id')['product_id'].count()\n",
    "print(products_per_order.mean())"
   ]
  },
  {
   "cell_type": "code",
   "execution_count": 52,
   "id": "sensitive-breathing",
   "metadata": {
    "id": "sensitive-breathing",
    "scrolled": true
   },
   "outputs": [
    {
     "data": {
      "image/png": "[encoded data removed]",
      "text/plain": [
       "<Figure size 432x288 with 1 Axes>"
      ]
     },
     "metadata": {
      "needs_background": "light"
     },
     "output_type": "display_data"
    }
   ],
   "source": [
    "\n",
    "products_per_order.hist()\n",
    "plt.show()"
   ]
  },
  {
   "cell_type": "code",
   "execution_count": null,
   "id": "completed-frank",
   "metadata": {
    "id": "completed-frank"
   },
   "outputs": [],
   "source": []
  },
  {
   "cell_type": "markdown",
   "id": "designed-mortality",
   "metadata": {
    "id": "designed-mortality"
   },
   "source": [
    "La mayoría de las personas piden al rededor de 10 productos"
   ]
  },
  {
   "cell_type": "markdown",
   "id": "76526075",
   "metadata": {},
   "source": [
    "<div class=\"alert alert-block alert-success\">\n",
    "<b>Comentario del revisor (1era Iteracion)</b> <a class=“tocSkip”></a>\n",
    "\n",
    "Muy buen trabajo con la visualización y conclusión!\n",
    "</div>"
   ]
  },
  {
   "cell_type": "markdown",
   "id": "5e6b5537",
   "metadata": {
    "id": "5e6b5537"
   },
   "source": [
    "### [C2] ¿Cuáles son los 20 principales artículos que vuelven a pedirse con mayor frecuencia (muestra sus nombres e IDs de los productos)?"
   ]
  },
  {
   "cell_type": "code",
   "execution_count": 114,
   "id": "9374e55a",
   "metadata": {
    "id": "9374e55a"
   },
   "outputs": [
    {
     "data": {
      "text/html": [
       "<div>\n",
       "<style scoped>\n",
       "    .dataframe tbody tr th:only-of-type {\n",
       "        vertical-align: middle;\n",
       "    }\n",
       "\n",
       "    .dataframe tbody tr th {\n",
       "        vertical-align: top;\n",
       "    }\n",
       "\n",
       "    .dataframe thead th {\n",
       "        text-align: right;\n",
       "    }\n",
       "</style>\n",
       "<table border=\"1\" class=\"dataframe\">\n",
       "  <thead>\n",
       "    <tr style=\"text-align: right;\">\n",
       "      <th></th>\n",
       "      <th>product_id</th>\n",
       "      <th>product_name</th>\n",
       "      <th>reordered</th>\n",
       "    </tr>\n",
       "  </thead>\n",
       "  <tbody>\n",
       "    <tr>\n",
       "      <th>0</th>\n",
       "      <td>24852</td>\n",
       "      <td>BANANA</td>\n",
       "      <td>55763</td>\n",
       "    </tr>\n",
       "    <tr>\n",
       "      <th>1</th>\n",
       "      <td>13176</td>\n",
       "      <td>BAG OF ORGANIC BANANAS</td>\n",
       "      <td>44450</td>\n",
       "    </tr>\n",
       "    <tr>\n",
       "      <th>2</th>\n",
       "      <td>21137</td>\n",
       "      <td>ORGANIC STRAWBERRIES</td>\n",
       "      <td>28639</td>\n",
       "    </tr>\n",
       "    <tr>\n",
       "      <th>3</th>\n",
       "      <td>21903</td>\n",
       "      <td>ORGANIC BABY SPINACH</td>\n",
       "      <td>26233</td>\n",
       "    </tr>\n",
       "    <tr>\n",
       "      <th>4</th>\n",
       "      <td>47209</td>\n",
       "      <td>ORGANIC HASS AVOCADO</td>\n",
       "      <td>23629</td>\n",
       "    </tr>\n",
       "    <tr>\n",
       "      <th>5</th>\n",
       "      <td>47766</td>\n",
       "      <td>ORGANIC AVOCADO</td>\n",
       "      <td>18743</td>\n",
       "    </tr>\n",
       "    <tr>\n",
       "      <th>6</th>\n",
       "      <td>27845</td>\n",
       "      <td>ORGANIC WHOLE MILK</td>\n",
       "      <td>16251</td>\n",
       "    </tr>\n",
       "    <tr>\n",
       "      <th>7</th>\n",
       "      <td>47626</td>\n",
       "      <td>LARGE LEMON</td>\n",
       "      <td>15044</td>\n",
       "    </tr>\n",
       "    <tr>\n",
       "      <th>8</th>\n",
       "      <td>27966</td>\n",
       "      <td>ORGANIC RASPBERRIES</td>\n",
       "      <td>14748</td>\n",
       "    </tr>\n",
       "    <tr>\n",
       "      <th>9</th>\n",
       "      <td>16797</td>\n",
       "      <td>STRAWBERRIES</td>\n",
       "      <td>13945</td>\n",
       "    </tr>\n",
       "    <tr>\n",
       "      <th>10</th>\n",
       "      <td>26209</td>\n",
       "      <td>LIMES</td>\n",
       "      <td>13327</td>\n",
       "    </tr>\n",
       "    <tr>\n",
       "      <th>11</th>\n",
       "      <td>22935</td>\n",
       "      <td>ORGANIC YELLOW ONION</td>\n",
       "      <td>11145</td>\n",
       "    </tr>\n",
       "    <tr>\n",
       "      <th>12</th>\n",
       "      <td>24964</td>\n",
       "      <td>ORGANIC GARLIC</td>\n",
       "      <td>10411</td>\n",
       "    </tr>\n",
       "    <tr>\n",
       "      <th>13</th>\n",
       "      <td>45007</td>\n",
       "      <td>ORGANIC ZUCCHINI</td>\n",
       "      <td>10076</td>\n",
       "    </tr>\n",
       "    <tr>\n",
       "      <th>14</th>\n",
       "      <td>49683</td>\n",
       "      <td>CUCUMBER KIRBY</td>\n",
       "      <td>9538</td>\n",
       "    </tr>\n",
       "    <tr>\n",
       "      <th>15</th>\n",
       "      <td>28204</td>\n",
       "      <td>ORGANIC FUJI APPLE</td>\n",
       "      <td>8989</td>\n",
       "    </tr>\n",
       "    <tr>\n",
       "      <th>16</th>\n",
       "      <td>8277</td>\n",
       "      <td>APPLE HONEYCRISP ORGANIC</td>\n",
       "      <td>8836</td>\n",
       "    </tr>\n",
       "    <tr>\n",
       "      <th>17</th>\n",
       "      <td>39275</td>\n",
       "      <td>ORGANIC BLUEBERRIES</td>\n",
       "      <td>8799</td>\n",
       "    </tr>\n",
       "    <tr>\n",
       "      <th>18</th>\n",
       "      <td>5876</td>\n",
       "      <td>ORGANIC LEMON</td>\n",
       "      <td>8412</td>\n",
       "    </tr>\n",
       "    <tr>\n",
       "      <th>19</th>\n",
       "      <td>49235</td>\n",
       "      <td>ORGANIC HALF &amp; HALF</td>\n",
       "      <td>8389</td>\n",
       "    </tr>\n",
       "  </tbody>\n",
       "</table>\n",
       "</div>"
      ],
      "text/plain": [
       "    product_id              product_name  reordered\n",
       "0        24852                    BANANA      55763\n",
       "1        13176    BAG OF ORGANIC BANANAS      44450\n",
       "2        21137      ORGANIC STRAWBERRIES      28639\n",
       "3        21903      ORGANIC BABY SPINACH      26233\n",
       "4        47209      ORGANIC HASS AVOCADO      23629\n",
       "5        47766           ORGANIC AVOCADO      18743\n",
       "6        27845        ORGANIC WHOLE MILK      16251\n",
       "7        47626               LARGE LEMON      15044\n",
       "8        27966       ORGANIC RASPBERRIES      14748\n",
       "9        16797              STRAWBERRIES      13945\n",
       "10       26209                     LIMES      13327\n",
       "11       22935      ORGANIC YELLOW ONION      11145\n",
       "12       24964            ORGANIC GARLIC      10411\n",
       "13       45007          ORGANIC ZUCCHINI      10076\n",
       "14       49683            CUCUMBER KIRBY       9538\n",
       "15       28204        ORGANIC FUJI APPLE       8989\n",
       "16        8277  APPLE HONEYCRISP ORGANIC       8836\n",
       "17       39275       ORGANIC BLUEBERRIES       8799\n",
       "18        5876             ORGANIC LEMON       8412\n",
       "19       49235       ORGANIC HALF & HALF       8389"
      ]
     },
     "execution_count": 114,
     "metadata": {},
     "output_type": "execute_result"
    }
   ],
   "source": [
    "#iniciamos agrupando y reseteando el indice d enuestro nuevo data frame\n",
    "reorder_frec = order_products.groupby('product_id')['reordered'].sum().reset_index()\n",
    "reorder_frec = reorder_frec.sort_values(by='reordered', ascending=False).head(20) #ordenamos los pedidos mas frecuentes\n",
    "reorder_frec_det = pd.merge(reorder_frec, products[['product_id', 'product_name']], on='product_id') #se unen las dos tablas por el id de producto\n",
    "reorder_frec_det[['product_id', 'product_name', 'reordered']] #imprimimos el nuevo data frame"
   ]
  },
  {
   "cell_type": "code",
   "execution_count": 54,
   "id": "possible-change",
   "metadata": {
    "id": "possible-change",
    "scrolled": true
   },
   "outputs": [],
   "source": [
    "### Los 20 productos que se ordenan y vuelven a pedir con mayor frecuencia son frutos y verduras, al igual que productos orgánicos."
   ]
  },
  {
   "cell_type": "code",
   "execution_count": 115,
   "id": "professional-surfing",
   "metadata": {
    "id": "professional-surfing",
    "scrolled": true
   },
   "outputs": [
    {
     "data": {
      "text/plain": [
       "<AxesSubplot:title={'center':'20 productos que se reordenan con mayor frecuencia'}, xlabel='productos', ylabel='Numero de vueltos a pedir'>"
      ]
     },
     "execution_count": 115,
     "metadata": {},
     "output_type": "execute_result"
    },
    {
     "data": {
      "image/png": "[encoded data removed]",
      "text/plain": [
       "<Figure size 432x288 with 1 Axes>"
      ]
     },
     "metadata": {
      "needs_background": "light"
     },
     "output_type": "display_data"
    }
   ],
   "source": [
    "reorder_frec_det.plot(kind='bar', x='product_name', y='reordered', xlabel='productos', ylabel= 'Numero de vueltos a pedir', title='20 productos que se reordenan con mayor frecuencia', rot=90)"
   ]
  },
  {
   "cell_type": "code",
   "execution_count": null,
   "id": "48dd3658",
   "metadata": {
    "id": "48dd3658"
   },
   "outputs": [],
   "source": []
  },
  {
   "cell_type": "markdown",
   "id": "80e70c74",
   "metadata": {
    "id": "80e70c74"
   },
   "source": [
    "Los productos que se ordenan con mayor frecuencia son los productos orgánicos."
   ]
  },
  {
   "cell_type": "markdown",
   "id": "9d312b14",
   "metadata": {
    "id": "9d312b14"
   },
   "source": [
    "### [C3] Para cada producto, ¿cuál es la proporción de las veces que se pide y que se vuelve a pedir?"
   ]
  },
  {
   "cell_type": "code",
   "execution_count": 116,
   "id": "8ae9f4b1",
   "metadata": {
    "id": "8ae9f4b1",
    "scrolled": false
   },
   "outputs": [
    {
     "name": "stdout",
     "output_type": "stream",
     "text": [
      "product_id\n",
      "1        0.564286\n",
      "2        0.000000\n",
      "3        0.738095\n",
      "4        0.510204\n",
      "7        0.500000\n",
      "           ...   \n",
      "49690    0.800000\n",
      "49691    0.430556\n",
      "49692    0.416667\n",
      "49693    0.440000\n",
      "49694    0.333333\n",
      "Name: reordered, Length: 45573, dtype: float64\n",
      "0.38670677893645\n"
     ]
    }
   ],
   "source": [
    "reorder_frec = order_products.groupby('product_id')['reordered'].mean()\n",
    "print(reorder_frec)\n",
    "print(reorder_frec.mean())"
   ]
  },
  {
   "cell_type": "code",
   "execution_count": null,
   "id": "103e7fe1",
   "metadata": {
    "id": "103e7fe1",
    "scrolled": false
   },
   "outputs": [],
   "source": []
  },
  {
   "cell_type": "code",
   "execution_count": null,
   "id": "social-individual",
   "metadata": {
    "id": "social-individual"
   },
   "outputs": [],
   "source": []
  },
  {
   "cell_type": "markdown",
   "id": "I10dEIAyldcO",
   "metadata": {
    "id": "I10dEIAyldcO"
   },
   "source": [
    "Los productos más pedidos son igualmente los que se reordenan con mayor frecuencia por los clientes."
   ]
  },
  {
   "cell_type": "markdown",
   "id": "dbeac152",
   "metadata": {},
   "source": [
    "<div class=\"alert alert-block alert-danger\">\n",
    "<b>Comentario del revisor (1era Iteracion)</b> <a class=“tocSkip”></a>\n",
    "\n",
    "Hiciste un buen trabajo con la visualización! El enunciado nos menciona que debe ser para los productos que se vuelven a pedir y tenemos una columna `reordered` por lo que primero deberíamos hacer un filtrado en base a eso y volver a graficar.\n",
    "    \n",
    " Recuerda incluir también la proporción, los datos que necesitas los puedes sacar del dataset `order_products` y `products`\n",
    "</div>"
   ]
  },
  {
   "cell_type": "code",
   "execution_count": 117,
   "id": "73aa5d79",
   "metadata": {},
   "outputs": [],
   "source": [
    "#modificado, gracias"
   ]
  },
  {
   "cell_type": "markdown",
   "id": "subject-boxing",
   "metadata": {
    "id": "subject-boxing"
   },
   "source": [
    "### [C4] Para cada cliente, ¿qué proporción de sus productos ya los había pedido?"
   ]
  },
  {
   "cell_type": "code",
   "execution_count": 56,
   "id": "medical-couple",
   "metadata": {
    "id": "medical-couple",
    "scrolled": true
   },
   "outputs": [
    {
     "name": "stdout",
     "output_type": "stream",
     "text": [
      "user_id\n",
      "2         0.038462\n",
      "4         0.000000\n",
      "5         0.666667\n",
      "6         0.000000\n",
      "7         0.928571\n",
      "            ...   \n",
      "206203    0.222222\n",
      "206206    0.714286\n",
      "206207    0.891304\n",
      "206208    0.696000\n",
      "206209    0.320000\n",
      "Name: reordered, Length: 149626, dtype: float64\n",
      "0.4948531736151642\n"
     ]
    }
   ],
   "source": [
    "#unimos las columnas que necesitamos\n",
    "prop_product = pd.merge(orders[['order_id', 'user_id']], order_products[['order_id', 'reordered']], on='order_id')\n",
    "prop_prev = prop_product.groupby('user_id')['reordered'].mean() #agrupamos y promediamos la cantidad que reordenó cada cliente\n",
    "print(prop_prev)\n",
    "print(prop_prev.mean())"
   ]
  },
  {
   "cell_type": "code",
   "execution_count": 57,
   "id": "8892e4b4",
   "metadata": {
    "id": "8892e4b4",
    "scrolled": true
   },
   "outputs": [
    {
     "data": {
      "image/png": "[encoded data removed]",
      "text/plain": [
       "<Figure size 432x288 with 1 Axes>"
      ]
     },
     "metadata": {
      "needs_background": "light"
     },
     "output_type": "display_data"
    }
   ],
   "source": [
    "prop_prev.hist()\n",
    "plt.show()\n",
    "\n"
   ]
  },
  {
   "cell_type": "markdown",
   "id": "BgJSvXDsleXz",
   "metadata": {
    "id": "BgJSvXDsleXz"
   },
   "source": [
    "el 49% de los productos ya habian sido pedidos por los clientes anteriormente, la gráfica muestra el comportamiento en general de los pedidos hechos previamente."
   ]
  },
  {
   "cell_type": "markdown",
   "id": "06bf0e38",
   "metadata": {},
   "source": [
    "<div class=\"alert alert-block alert-success\">\n",
    "<b>Comentario del revisor (1era Iteracion)</b> <a class=“tocSkip”></a>\n",
    "\n",
    "Muy buen trabajo con la visualización y conclusión! Lo mismo debes aplicar en pasos anteriores donde se te pide la proporción.\n",
    "</div>"
   ]
  },
  {
   "cell_type": "markdown",
   "id": "92d35137",
   "metadata": {
    "id": "92d35137"
   },
   "source": [
    "### [C5] ¿Cuáles son los 20 principales artículos que las personas ponen primero en sus carritos?"
   ]
  },
  {
   "cell_type": "code",
   "execution_count": 119,
   "id": "0ae57274",
   "metadata": {
    "id": "0ae57274",
    "scrolled": false
   },
   "outputs": [],
   "source": [
    "#unimos las columnas necesarias\n",
    "first_product = pd.merge(products, order_products, on='product_id')\n"
   ]
  },
  {
   "cell_type": "code",
   "execution_count": 120,
   "id": "forty-netherlands",
   "metadata": {
    "id": "forty-netherlands",
    "scrolled": true
   },
   "outputs": [],
   "source": [
    "#filtramos los primeros productos en el carrito\n",
    "first_product_filt = first_product[first_product['add_to_cart_order']==1]\n"
   ]
  },
  {
   "cell_type": "code",
   "execution_count": 121,
   "id": "08e41ec2",
   "metadata": {
    "id": "08e41ec2",
    "scrolled": false
   },
   "outputs": [
    {
     "name": "stdout",
     "output_type": "stream",
     "text": [
      "product_name                 add_to_cart_order\n",
      "BANANA                       1                    15562\n",
      "BAG OF ORGANIC BANANAS       1                    11026\n",
      "ORGANIC WHOLE MILK           1                     4363\n",
      "ORGANIC STRAWBERRIES         1                     3946\n",
      "ORGANIC HASS AVOCADO         1                     3390\n",
      "ORGANIC BABY SPINACH         1                     3336\n",
      "ORGANIC AVOCADO              1                     3044\n",
      "SPRING WATER                 1                     2336\n",
      "STRAWBERRIES                 1                     2308\n",
      "ORGANIC RASPBERRIES          1                     2024\n",
      "SPARKLING WATER GRAPEFRUIT   1                     1914\n",
      "ORGANIC HALF & HALF          1                     1797\n",
      "LARGE LEMON                  1                     1737\n",
      "SODA                         1                     1733\n",
      "ORGANIC REDUCED FAT MILK     1                     1397\n",
      "LIMES                        1                     1370\n",
      "HASS AVOCADOS                1                     1340\n",
      "ORGANIC REDUCED FAT 2% MILK  1                     1310\n",
      "HALF & HALF                  1                     1309\n",
      "ORGANIC YELLOW ONION         1                     1246\n",
      "Name: add_to_cart_order, dtype: int64\n"
     ]
    }
   ],
   "source": [
    "#agrupamos e imprimimos\n",
    "count_first = first_product_filt.groupby('product_name')['add_to_cart_order'].value_counts().sort_values(ascending=False).head(20)\n",
    "\n",
    "print(count_first)"
   ]
  },
  {
   "cell_type": "code",
   "execution_count": 124,
   "id": "6f2a8f1f",
   "metadata": {
    "scrolled": true
   },
   "outputs": [
    {
     "data": {
      "text/plain": [
       "<AxesSubplot:title={'center':'20 productos que compran primero los clientes'}, xlabel='productos', ylabel='Orden de compra'>"
      ]
     },
     "execution_count": 124,
     "metadata": {},
     "output_type": "execute_result"
    },
    {
     "data": {
      "image/png": "[encoded data removed]",
      "text/plain": [
       "<Figure size 432x288 with 1 Axes>"
      ]
     },
     "metadata": {
      "needs_background": "light"
     },
     "output_type": "display_data"
    }
   ],
   "source": [
    "count_first.plot(kind='bar', x='product_name', y='add_to_cart_order', xlabel='productos', ylabel= 'Orden de compra', title='20 productos que compran primero los clientes', rot=90)"
   ]
  },
  {
   "cell_type": "markdown",
   "id": "28ce9872",
   "metadata": {
    "id": "28ce9872"
   },
   "source": [
    "Los 20 productos que ordenan primero los clientes coinciden en su mayoría con los 20 procutos más vendidos y los más reordenados."
   ]
  },
  {
   "cell_type": "markdown",
   "id": "d8a2ded4",
   "metadata": {},
   "source": [
    "<div class=\"alert alert-block alert-warning\">\n",
    "<b>Comentario del revisor (1era Iteracion)</b> <a class=“tocSkip”></a>\n",
    "\n",
    "Bien hecho! Te recomiendo complementar esta parte con una gráfica mostrando el nombre de los productos como en casos anteriores.\n",
    "</div>"
   ]
  },
  {
   "cell_type": "markdown",
   "id": "uITbFCEoDosC",
   "metadata": {
    "id": "uITbFCEoDosC"
   },
   "source": [
    "### Conclusion general del proyecto:"
   ]
  },
  {
   "cell_type": "code",
   "execution_count": 75,
   "id": "Nk-4GS7mDwqY",
   "metadata": {
    "id": "Nk-4GS7mDwqY"
   },
   "outputs": [],
   "source": [
    "# Al trabajar con diferentes data frames que comparten información, es posible hacer multiples análisis al manipular los datos. \n",
    "# Para ello primeramente se deben procesar para filtrar aquellos datos que no son representativos como los duplicados y ausentes.\n",
    "# Las gráficas son muy utiles al momento de visualizar datos, pero puede ser confuso el acomodo de los mismos ya que se debe elegir\n",
    "# el tipo de gráfico adecuado para cada caso."
   ]
  },
  {
   "cell_type": "code",
   "execution_count": 76,
   "id": "fb2d996f",
   "metadata": {},
   "outputs": [],
   "source": [
    "# La plataforma de Instacar ha permitido duplicar información e ingresar datos ausentes, lo que puede interferir al momento de \n",
    "# analizar sus pedidos. Los clientes tienden a ordenar más en horas del día entre 9:00 y 17:00, siendo los domingos el día favorito.\n",
    "# La mayoría de los clientes hacen su compra semanalmente. Las bananas, fresas, baby spinach y aguacates lideran las listas de compras."
   ]
  },
  {
   "cell_type": "markdown",
   "id": "91d620b1",
   "metadata": {},
   "source": [
    "<div class=\"alert alert-block alert-success\">\n",
    "<b>Comentario final (1ra Revision)</b> <a class=“tocSkip”></a>\n",
    "    \n",
    "\n",
    "Hiciste un buen trabajo Erika! Hiciste muy buenas conclusiones a partir de las gráficas resultantes, se nota tu conocimiento de las herramientas de manejo de datos cómo lo es pandas y la interpretación de los resultados.\n",
    "    \n",
    "\n",
    "Encontré algunos puntos de mejora en los cuales te he dejado algunas sugerencias para que puedas resolverlos, algunos necesarios para aprobar tus proyectos y otros cómo recomendaciones de buenas prácticas para tus próximos proyectos.\n",
    "    \n",
    "Un saludo!\n",
    "</div>"
   ]
  },
  {
   "cell_type": "code",
   "execution_count": 40,
   "id": "5289c0b1",
   "metadata": {},
   "outputs": [],
   "source": [
    "#Muchas gracias Patricio, ya he hecho las correcciones."
   ]
  },
  {
   "cell_type": "markdown",
   "id": "afda75e3",
   "metadata": {},
   "source": [
    "<div class=\"alert alert-block alert-success\">\n",
    "<b>Comentario final</b> <a class=“tocSkip”></a>\n",
    "    \n",
    "\n",
    "Bien hecho Erika! Realizaste las correcciones necesarias y llegaste a conclusiones más acertadas de tu conjunto de datos.\n",
    "    \n",
    "\n",
    "Hiciste un buen trabajo con la exploración de tus datos, te he ido dejando algunas recomendaciones para que puedan ser aplicadas en próximos proyectos ya que a pesar de que llegaste a buenas conclusiones puedes aplicar otras formas de hacerlo que te tomaría menos tiempo en llegar a lo mismo.\n",
    "    \n",
    "Un saludo!\n",
    "</div>"
   ]
  }
 ],
 "metadata": {
  "ExecuteTimeLog": [
   {
    "duration": 4426,
    "start_time": "2024-05-16T18:16:54.951Z"
   },
   {
    "duration": 1710,
    "start_time": "2024-05-16T18:17:00.462Z"
   }
  ],
  "colab": {
   "provenance": []
  },
  "kernelspec": {
   "display_name": "Python 3 (ipykernel)",
   "language": "python",
   "name": "python3"
  },
  "language_info": {
   "codemirror_mode": {
    "name": "ipython",
    "version": 3
   },
   "file_extension": ".py",
   "mimetype": "text/x-python",
   "name": "python",
   "nbconvert_exporter": "python",
   "pygments_lexer": "ipython3",
   "version": "3.9.19"
  },
  "toc": {
   "base_numbering": 1,
   "nav_menu": {},
   "number_sections": true,
   "sideBar": true,
   "skip_h1_title": true,
   "title_cell": "Table of Contents",
   "title_sidebar": "Contents",
   "toc_cell": false,
   "toc_position": {},
   "toc_section_display": true,
   "toc_window_display": false
  },
  "vscode": {
   "interpreter": {
    "hash": "01a7be9ec63e704a62cefc5fe7a4756944464ee731be31632bdf42a4cb4688cf"
   }
  }
 },
 "nbformat": 4,
 "nbformat_minor": 5
}
